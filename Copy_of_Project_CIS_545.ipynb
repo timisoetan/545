{
  "cells": [
    {
      "cell_type": "markdown",
      "metadata": {
        "id": "view-in-github",
        "colab_type": "text"
      },
      "source": [
        "<a href=\"https://colab.research.google.com/github/timisoetan/545/blob/main/Copy_of_Project_CIS_545.ipynb\" target=\"_parent\"><img src=\"https://colab.research.google.com/assets/colab-badge.svg\" alt=\"Open In Colab\"/></a>"
      ]
    },
    {
      "cell_type": "markdown",
      "metadata": {
        "id": "ZzkJz_4jlZFD"
      },
      "source": [
        "## CIS 545 Project on COVID-19 Data\n",
        "Ibrahim Fagbamila\n",
        "\n",
        "Timi Soetan\n",
        "\n",
        "Kamran Elahi"
      ]
    },
    {
      "cell_type": "markdown",
      "source": [
        "# Introduction & Background\n",
        "\n",
        "---\n",
        "\n",
        "Given the global COVID-19 pandemic, we wanted to explore the relationship between the movement of people in the U.S. and the spread of COVID-19. We gathered different kinds of data from different sources.\n",
        "\n",
        "We use publicly availible data from the U.S. Department of Transportation to see how many people leave their home each day and how far they go. (https://data.bts.gov/Research-and-Statistics/Trips-by-Distance/w96p-f2qv/data)\n",
        "\n",
        "\n",
        "We get publicly availible data from USAFacts.org on the number of deaths and cases over an extensive period of time covering much of the lockdown and COVID-19 pandemic. (https://usafacts.org/visualizations/coronavirus-covid-19-spread-map/)\n",
        "\n",
        " We then combine these datasets below into a time series format in order to properly process it. We conduct data cleaning and wrangling, droping Nulls where appropriate and removing U.S. counties where the data has too many gaps to be useful in our analysis. Our final product is **merged_df**."
      ],
      "metadata": {
        "id": "qBxqYa9gsWwj"
      }
    },
    {
      "cell_type": "code",
      "execution_count": null,
      "metadata": {
        "id": "GS9FRT2PlVl2"
      },
      "outputs": [],
      "source": [
        "# Sklearn and Pandas Setup\n",
        "import pandas as pd\n",
        "import numpy as np\n",
        "import datetime as dt\n",
        "import re\n",
        "import os\n",
        "import itertools\n",
        "import matplotlib.pyplot as plt\n",
        "import seaborn as sns\n",
        "\n",
        "from google.colab import drive"
      ]
    },
    {
      "cell_type": "code",
      "execution_count": null,
      "metadata": {
        "id": "iCYG5mVMmY0j"
      },
      "outputs": [],
      "source": [
        "airline_delay_cause_df = pd.read_csv('./Airline_Delay_Cause.csv')\n",
        "covid_confirmed_df = pd.read_csv('./covid_confirmed_usafacts.csv')\n",
        "covid_deaths_df = pd.read_csv('./covid_deaths_usafacts.csv')\n",
        "trips_by_distance_df = pd.read_csv('./Trips_by_Distance.csv')"
      ]
    },
    {
      "cell_type": "code",
      "execution_count": null,
      "metadata": {
        "id": "l76HvHW8uERY"
      },
      "outputs": [],
      "source": [
        "# Remove counties with 'Statewide Unallocated'\n",
        "covid_confirmed_df =  covid_confirmed_df[covid_confirmed_df['County Name'] != 'Statewide Unallocated']\n",
        "covid_deaths_df =  covid_deaths_df[covid_deaths_df['County Name'] != 'Statewide Unallocated']"
      ]
    },
    {
      "cell_type": "code",
      "execution_count": null,
      "metadata": {
        "id": "KIiPdiacAf3s"
      },
      "outputs": [],
      "source": [
        "trips_by_distance_df = trips_by_distance_df[trips_by_distance_df['Level'] == 'County']\n",
        "trips_by_distance_df['Date'] = pd.to_datetime(trips_by_distance_df['Date'])\n",
        "trips_by_distance_df = trips_by_distance_df[trips_by_distance_df['Date'] >= pd.to_datetime('01/22/2020') ]\n",
        "# trips_by_distance_df = trips_by_distance_df[trips_by_distance_df['Date'] <= pd.to_datetime('03/20/2022')]\n",
        "# START: 2020-01-22\n",
        "# END: 2022-03-20"
      ]
    },
    {
      "cell_type": "code",
      "execution_count": null,
      "metadata": {
        "id": "HAK6GT63vct8"
      },
      "outputs": [],
      "source": [
        "# covid_confirmed_df\n",
        "# covid_deaths_df\n",
        "# START: 2020-01-22\n",
        "# END: 2022-03-20\n",
        "\n",
        "########################################################\n",
        "##################  THINGS TO DO:  #####################\n",
        "########################################################\n",
        "# 1. map covid_dfs from COUNTY to CITY [ ]\n",
        "# 2. Remove counties with 'Statewide Unallocated' [ X ]\n",
        "# 2. Aggregate covid_dfs from indiv dates to months. [ X ]\n",
        "########################################################\n",
        "\n",
        "date_cols = list(covid_confirmed_df.columns)\n",
        "date_cols.remove('countyFIPS')\n",
        "date_cols.remove('County Name')\n",
        "date_cols.remove('State')\n",
        "date_cols.remove('StateFIPS')\n",
        "date_cols = pd.to_datetime(date_cols)\n",
        "\n",
        "month_date_tuples = list(itertools.chain.from_iterable([[(month, year) for month in range(1,13)] for year in range(2020, 2023)]))\n",
        "\n",
        "for m,y in month_date_tuples:\n",
        "  date_range = [str(x)[:10] for x in date_cols if x.month == m and x.year == y]\n",
        "  # column of sum of all cases for month (m) and year (y) for every county(index)\n",
        "  agg_monthly_cases_col = covid_confirmed_df.apply(lambda x : x[date_range], axis=1).sum(axis=1)\n",
        "  agg_monthly_deaths_col = covid_deaths_df.apply(lambda x : x[date_range], axis=1).sum(axis=1)\n",
        "\n",
        "  covid_confirmed_df = covid_confirmed_df.drop(date_range, axis=1) # drop date_range columns\n",
        "  covid_deaths_df = covid_deaths_df.drop(date_range, axis=1) # drop date_range columns\n",
        "\n",
        "  covid_deaths_df['{}-{}'.format(m,y)] = agg_monthly_deaths_col # add single agg_monthly_deaths_col column\n",
        "  covid_confirmed_df['{}-{}'.format(m,y)] = agg_monthly_cases_col # add single agg_monthly_cases_col column"
      ]
    },
    {
      "cell_type": "code",
      "execution_count": null,
      "metadata": {
        "id": "ogc5jOO7trr3"
      },
      "outputs": [],
      "source": [
        "# covid_confirmed_df[covid_confirmed_df['County Name'] == 'Autauga County'] #repalce county name with city eventually after mapping stuff\n",
        "# airline_delay_cause_df\n",
        "mon_year_cols = [x for x in covid_confirmed_df.columns if '-' in x]\n",
        "confirmed_cases_2d_array = list(covid_confirmed_df.apply(lambda x : list(x[mon_year_cols]), axis=1))\n",
        "confirmed_deaths_2d_array = list(covid_deaths_df.apply(lambda x : list(x[mon_year_cols]), axis=1))"
      ]
    },
    {
      "cell_type": "code",
      "execution_count": null,
      "metadata": {
        "id": "blhEICiznNLP"
      },
      "outputs": [],
      "source": [
        "temp = list(covid_confirmed_df[['countyFIPS', 'StateFIPS', 'County Name', 'State', ]].apply(lambda x : list(x), axis=1))\n",
        "data = []"
      ]
    },
    {
      "cell_type": "code",
      "execution_count": null,
      "metadata": {
        "id": "WmYmOWx0vIaR"
      },
      "outputs": [],
      "source": [
        "for i in range(len(confirmed_cases_2d_array)): #3142\n",
        "  for j in range(36): #36\n",
        "    row = temp[i] + [mon_year_cols[j]] + [confirmed_cases_2d_array[i][j]] + [confirmed_deaths_2d_array[i][j]]\n",
        "    # print(row)\n",
        "    data.append(row)"
      ]
    },
    {
      "cell_type": "code",
      "execution_count": null,
      "metadata": {
        "id": "ANeI77k-CASv"
      },
      "outputs": [],
      "source": [
        "# make df from data\n",
        "# NOTE: I excluded columns 'countyFIPS' and 'StateFIPS'\n",
        "df = pd.DataFrame(data, columns = ['countyFIPS', 'StateFIPS', 'County Name', 'State', 'month_year', 'cases', 'deaths',])\n",
        "\n",
        "# split 'month_year' into 2 columns\n",
        "df['month'] = df['month_year'].apply(lambda x : int(x.split('-')[0]))\n",
        "df['year'] = df['month_year'].apply(lambda x : int(x.split('-')[1]))\n",
        "df['County Name'] = df['County Name'].str.strip()\n",
        "df = df[['countyFIPS', 'County Name', 'State', 'cases', 'deaths', 'month', 'year']]\n",
        "\n",
        "# remove data after March 2022\n",
        "df = df.loc[~((df['month'] >= 4) & (df['year'] == 2022))]"
      ]
    },
    {
      "cell_type": "code",
      "execution_count": null,
      "metadata": {
        "colab": {
          "base_uri": "https://localhost:8080/",
          "height": 423
        },
        "id": "EMXelY6f9iu7",
        "outputId": "cb7a349a-8811-4049-d72f-fe389f6e3482"
      },
      "outputs": [
        {
          "output_type": "execute_result",
          "data": {
            "text/plain": [
              "        countyFIPS     County Name State    cases  deaths  month  year\n",
              "0             1001  Autauga County    AL      0.0     0.0      1  2020\n",
              "1             1001  Autauga County    AL      0.0     0.0      2  2020\n",
              "2             1001  Autauga County    AL     43.0     0.0      3  2020\n",
              "3             1001  Autauga County    AL    729.0    35.0      4  2020\n",
              "4             1001  Autauga County    AL   3663.0    95.0      5  2020\n",
              "...            ...             ...   ...      ...     ...    ...   ...\n",
              "113098       56045   Weston County    WY  35167.0   337.0     11  2021\n",
              "113099       56045   Weston County    WY  38047.0   434.0     12  2021\n",
              "113100       56045   Weston County    WY  40962.0   490.0      1  2022\n",
              "113101       56045   Weston County    WY  42536.0   483.0      2  2022\n",
              "113102       56045   Weston County    WY  30865.0   360.0      3  2022\n",
              "\n",
              "[84834 rows x 7 columns]"
            ],
            "text/html": [
              "\n",
              "  <div id=\"df-ac21a2de-b279-46f7-827e-72b42325f742\">\n",
              "    <div class=\"colab-df-container\">\n",
              "      <div>\n",
              "<style scoped>\n",
              "    .dataframe tbody tr th:only-of-type {\n",
              "        vertical-align: middle;\n",
              "    }\n",
              "\n",
              "    .dataframe tbody tr th {\n",
              "        vertical-align: top;\n",
              "    }\n",
              "\n",
              "    .dataframe thead th {\n",
              "        text-align: right;\n",
              "    }\n",
              "</style>\n",
              "<table border=\"1\" class=\"dataframe\">\n",
              "  <thead>\n",
              "    <tr style=\"text-align: right;\">\n",
              "      <th></th>\n",
              "      <th>countyFIPS</th>\n",
              "      <th>County Name</th>\n",
              "      <th>State</th>\n",
              "      <th>cases</th>\n",
              "      <th>deaths</th>\n",
              "      <th>month</th>\n",
              "      <th>year</th>\n",
              "    </tr>\n",
              "  </thead>\n",
              "  <tbody>\n",
              "    <tr>\n",
              "      <th>0</th>\n",
              "      <td>1001</td>\n",
              "      <td>Autauga County</td>\n",
              "      <td>AL</td>\n",
              "      <td>0.0</td>\n",
              "      <td>0.0</td>\n",
              "      <td>1</td>\n",
              "      <td>2020</td>\n",
              "    </tr>\n",
              "    <tr>\n",
              "      <th>1</th>\n",
              "      <td>1001</td>\n",
              "      <td>Autauga County</td>\n",
              "      <td>AL</td>\n",
              "      <td>0.0</td>\n",
              "      <td>0.0</td>\n",
              "      <td>2</td>\n",
              "      <td>2020</td>\n",
              "    </tr>\n",
              "    <tr>\n",
              "      <th>2</th>\n",
              "      <td>1001</td>\n",
              "      <td>Autauga County</td>\n",
              "      <td>AL</td>\n",
              "      <td>43.0</td>\n",
              "      <td>0.0</td>\n",
              "      <td>3</td>\n",
              "      <td>2020</td>\n",
              "    </tr>\n",
              "    <tr>\n",
              "      <th>3</th>\n",
              "      <td>1001</td>\n",
              "      <td>Autauga County</td>\n",
              "      <td>AL</td>\n",
              "      <td>729.0</td>\n",
              "      <td>35.0</td>\n",
              "      <td>4</td>\n",
              "      <td>2020</td>\n",
              "    </tr>\n",
              "    <tr>\n",
              "      <th>4</th>\n",
              "      <td>1001</td>\n",
              "      <td>Autauga County</td>\n",
              "      <td>AL</td>\n",
              "      <td>3663.0</td>\n",
              "      <td>95.0</td>\n",
              "      <td>5</td>\n",
              "      <td>2020</td>\n",
              "    </tr>\n",
              "    <tr>\n",
              "      <th>...</th>\n",
              "      <td>...</td>\n",
              "      <td>...</td>\n",
              "      <td>...</td>\n",
              "      <td>...</td>\n",
              "      <td>...</td>\n",
              "      <td>...</td>\n",
              "      <td>...</td>\n",
              "    </tr>\n",
              "    <tr>\n",
              "      <th>113098</th>\n",
              "      <td>56045</td>\n",
              "      <td>Weston County</td>\n",
              "      <td>WY</td>\n",
              "      <td>35167.0</td>\n",
              "      <td>337.0</td>\n",
              "      <td>11</td>\n",
              "      <td>2021</td>\n",
              "    </tr>\n",
              "    <tr>\n",
              "      <th>113099</th>\n",
              "      <td>56045</td>\n",
              "      <td>Weston County</td>\n",
              "      <td>WY</td>\n",
              "      <td>38047.0</td>\n",
              "      <td>434.0</td>\n",
              "      <td>12</td>\n",
              "      <td>2021</td>\n",
              "    </tr>\n",
              "    <tr>\n",
              "      <th>113100</th>\n",
              "      <td>56045</td>\n",
              "      <td>Weston County</td>\n",
              "      <td>WY</td>\n",
              "      <td>40962.0</td>\n",
              "      <td>490.0</td>\n",
              "      <td>1</td>\n",
              "      <td>2022</td>\n",
              "    </tr>\n",
              "    <tr>\n",
              "      <th>113101</th>\n",
              "      <td>56045</td>\n",
              "      <td>Weston County</td>\n",
              "      <td>WY</td>\n",
              "      <td>42536.0</td>\n",
              "      <td>483.0</td>\n",
              "      <td>2</td>\n",
              "      <td>2022</td>\n",
              "    </tr>\n",
              "    <tr>\n",
              "      <th>113102</th>\n",
              "      <td>56045</td>\n",
              "      <td>Weston County</td>\n",
              "      <td>WY</td>\n",
              "      <td>30865.0</td>\n",
              "      <td>360.0</td>\n",
              "      <td>3</td>\n",
              "      <td>2022</td>\n",
              "    </tr>\n",
              "  </tbody>\n",
              "</table>\n",
              "<p>84834 rows × 7 columns</p>\n",
              "</div>\n",
              "      <button class=\"colab-df-convert\" onclick=\"convertToInteractive('df-ac21a2de-b279-46f7-827e-72b42325f742')\"\n",
              "              title=\"Convert this dataframe to an interactive table.\"\n",
              "              style=\"display:none;\">\n",
              "        \n",
              "  <svg xmlns=\"http://www.w3.org/2000/svg\" height=\"24px\"viewBox=\"0 0 24 24\"\n",
              "       width=\"24px\">\n",
              "    <path d=\"M0 0h24v24H0V0z\" fill=\"none\"/>\n",
              "    <path d=\"M18.56 5.44l.94 2.06.94-2.06 2.06-.94-2.06-.94-.94-2.06-.94 2.06-2.06.94zm-11 1L8.5 8.5l.94-2.06 2.06-.94-2.06-.94L8.5 2.5l-.94 2.06-2.06.94zm10 10l.94 2.06.94-2.06 2.06-.94-2.06-.94-.94-2.06-.94 2.06-2.06.94z\"/><path d=\"M17.41 7.96l-1.37-1.37c-.4-.4-.92-.59-1.43-.59-.52 0-1.04.2-1.43.59L10.3 9.45l-7.72 7.72c-.78.78-.78 2.05 0 2.83L4 21.41c.39.39.9.59 1.41.59.51 0 1.02-.2 1.41-.59l7.78-7.78 2.81-2.81c.8-.78.8-2.07 0-2.86zM5.41 20L4 18.59l7.72-7.72 1.47 1.35L5.41 20z\"/>\n",
              "  </svg>\n",
              "      </button>\n",
              "      \n",
              "  <style>\n",
              "    .colab-df-container {\n",
              "      display:flex;\n",
              "      flex-wrap:wrap;\n",
              "      gap: 12px;\n",
              "    }\n",
              "\n",
              "    .colab-df-convert {\n",
              "      background-color: #E8F0FE;\n",
              "      border: none;\n",
              "      border-radius: 50%;\n",
              "      cursor: pointer;\n",
              "      display: none;\n",
              "      fill: #1967D2;\n",
              "      height: 32px;\n",
              "      padding: 0 0 0 0;\n",
              "      width: 32px;\n",
              "    }\n",
              "\n",
              "    .colab-df-convert:hover {\n",
              "      background-color: #E2EBFA;\n",
              "      box-shadow: 0px 1px 2px rgba(60, 64, 67, 0.3), 0px 1px 3px 1px rgba(60, 64, 67, 0.15);\n",
              "      fill: #174EA6;\n",
              "    }\n",
              "\n",
              "    [theme=dark] .colab-df-convert {\n",
              "      background-color: #3B4455;\n",
              "      fill: #D2E3FC;\n",
              "    }\n",
              "\n",
              "    [theme=dark] .colab-df-convert:hover {\n",
              "      background-color: #434B5C;\n",
              "      box-shadow: 0px 1px 3px 1px rgba(0, 0, 0, 0.15);\n",
              "      filter: drop-shadow(0px 1px 2px rgba(0, 0, 0, 0.3));\n",
              "      fill: #FFFFFF;\n",
              "    }\n",
              "  </style>\n",
              "\n",
              "      <script>\n",
              "        const buttonEl =\n",
              "          document.querySelector('#df-ac21a2de-b279-46f7-827e-72b42325f742 button.colab-df-convert');\n",
              "        buttonEl.style.display =\n",
              "          google.colab.kernel.accessAllowed ? 'block' : 'none';\n",
              "\n",
              "        async function convertToInteractive(key) {\n",
              "          const element = document.querySelector('#df-ac21a2de-b279-46f7-827e-72b42325f742');\n",
              "          const dataTable =\n",
              "            await google.colab.kernel.invokeFunction('convertToInteractive',\n",
              "                                                     [key], {});\n",
              "          if (!dataTable) return;\n",
              "\n",
              "          const docLinkHtml = 'Like what you see? Visit the ' +\n",
              "            '<a target=\"_blank\" href=https://colab.research.google.com/notebooks/data_table.ipynb>data table notebook</a>'\n",
              "            + ' to learn more about interactive tables.';\n",
              "          element.innerHTML = '';\n",
              "          dataTable['output_type'] = 'display_data';\n",
              "          await google.colab.output.renderOutput(dataTable, element);\n",
              "          const docLink = document.createElement('div');\n",
              "          docLink.innerHTML = docLinkHtml;\n",
              "          element.appendChild(docLink);\n",
              "        }\n",
              "      </script>\n",
              "    </div>\n",
              "  </div>\n",
              "  "
            ]
          },
          "metadata": {},
          "execution_count": 13
        }
      ],
      "source": [
        "df"
      ]
    },
    {
      "cell_type": "markdown",
      "metadata": {
        "id": "Y3Y7kyBHaFvs"
      },
      "source": [
        "Consider **trips_by_distance_df**. Drop all rows that have counties that are not also in **df**."
      ]
    },
    {
      "cell_type": "code",
      "execution_count": null,
      "metadata": {
        "id": "btLbWwxFaTOu"
      },
      "outputs": [],
      "source": [
        "# https://data.bts.gov/Research-and-Statistics/Trips-by-Distance/w96p-f2qv/data\n",
        "\n",
        "# trips_by_distance_df.sort_values(by='County Name')[trips_by_distance_df['County Name'] == 'Abbeville County']\n",
        "# len(list(trips_by_distance_df['County Name'])) # 168796\n",
        "# len(list(df['County Name'])) # 84834\n",
        "\n",
        "df_names_list = list(df['County Name'])\n",
        "trips_names_list = list(trips_by_distance_df['County Name'])"
      ]
    },
    {
      "cell_type": "code",
      "execution_count": null,
      "metadata": {
        "id": "uqAYP6lUYYdU"
      },
      "outputs": [],
      "source": [
        "common_county_names = list(set(trips_names_list) - set(df_names_list))\n",
        "\n",
        "\n",
        "# dates_df = list(set(df.apply(lambda x : (x.year, x.month), axis=1)))\n",
        "# dates_trips = [(x.year, x.month, x.day) for x in trips_by_distance_df['Date']]\n",
        "\n",
        "\n",
        "# dates_df.sort()\n",
        "# print(dates_df)\n",
        "\n",
        "# dates_trips.sort()\n",
        "# print(dates_trips)\n",
        "\n",
        "trips_by_distance_df = trips_by_distance_df[trips_by_distance_df['Level'] == 'County']\n",
        "\n",
        "# final columns estimate:\n",
        "# year, month, county, state, cases, deaths, average stayed home (per month+year), average traveled 10mi from home (per month+year), average 50mi,,,\n",
        "\n",
        "#maybe weekday or weekend + weather?\n",
        "# trips_by_distance_df = trips_by_distance_df.drop(['level_0', 'index'],axis=1)\n",
        "trips_by_distance_df['Date'] = pd.to_datetime(trips_by_distance_df['Date'])\n",
        "trips_by_distance_df['Year'] = trips_by_distance_df['Date'].apply(lambda x: x.year)\n",
        "trips_by_distance_df['County Name'] = trips_by_distance_df['County Name'].str.strip()"
      ]
    },
    {
      "cell_type": "code",
      "execution_count": null,
      "metadata": {
        "colab": {
          "base_uri": "https://localhost:8080/",
          "height": 904
        },
        "id": "V3-5-1J1UCI-",
        "outputId": "7f9e02eb-c763-47a1-d030-7df33b388edd"
      },
      "outputs": [
        {
          "output_type": "execute_result",
          "data": {
            "text/plain": [
              "          Level       Date  State FIPS State Postal Code  County FIPS  \\\n",
              "21061    County 2021-06-06        56.0                WY      56045.0   \n",
              "22762    County 2021-06-06         5.0                AR       5011.0   \n",
              "22763    County 2021-06-06         5.0                AR       5013.0   \n",
              "22764    County 2021-06-06         5.0                AR       5015.0   \n",
              "22765    County 2021-06-06         5.0                AR       5017.0   \n",
              "...         ...        ...         ...               ...          ...   \n",
              "3615239  County 2022-02-05         1.0                AL       1067.0   \n",
              "3615240  County 2022-02-05         1.0                AL       1069.0   \n",
              "3615241  County 2022-02-05         1.0                AL       1071.0   \n",
              "3615243  County 2022-02-05         1.0                AL       1073.0   \n",
              "3615244  County 2022-02-05         1.0                AL       1075.0   \n",
              "\n",
              "              County Name  Population Staying at Home  \\\n",
              "21061       Weston County                      1268.0   \n",
              "22762      Bradley County                      1780.0   \n",
              "22763      Calhoun County                       571.0   \n",
              "22764      Carroll County                      4386.0   \n",
              "22765       Chicot County                      1356.0   \n",
              "...                   ...                         ...   \n",
              "3615239      Henry County                      1946.0   \n",
              "3615240    Houston County                     18024.0   \n",
              "3615241    Jackson County                      7857.0   \n",
              "3615243  Jefferson County                    140986.0   \n",
              "3615244      Lamar County                      2008.0   \n",
              "\n",
              "         Population Not Staying at Home  Number of Trips  Number of Trips <1  \\\n",
              "21061                            5659.0          22471.0              4160.0   \n",
              "22762                            8983.0          25022.0              3411.0   \n",
              "22763                            4618.0          17543.0              2166.0   \n",
              "22764                           23994.0          77047.0             14712.0   \n",
              "22765                            8762.0          31550.0              9483.0   \n",
              "...                                 ...              ...                 ...   \n",
              "3615239                         15259.0          69069.0             11791.0   \n",
              "3615240                         87858.0         369592.0             93860.0   \n",
              "3615241                         43769.0         186441.0             33567.0   \n",
              "3615243                        517587.0        1991573.0            519985.0   \n",
              "3615244                         11797.0          51939.0              6721.0   \n",
              "\n",
              "         ...  Number of Trips 10-25  Number of Trips 25-50  \\\n",
              "21061    ...                 5723.0                 2202.0   \n",
              "22762    ...                 3343.0                 1793.0   \n",
              "22763    ...                 4277.0                 1141.0   \n",
              "22764    ...                14712.0                 4272.0   \n",
              "22765    ...                 3857.0                 1380.0   \n",
              "...      ...                    ...                    ...   \n",
              "3615239  ...                14642.0                 6865.0   \n",
              "3615240  ...                50254.0                15617.0   \n",
              "3615241  ...                34943.0                16311.0   \n",
              "3615243  ...               332839.0                79186.0   \n",
              "3615244  ...                 9525.0                 3884.0   \n",
              "\n",
              "         Number of Trips 50-100  Number of Trips 100-250  \\\n",
              "21061                    3930.0                   1160.0   \n",
              "22762                    1383.0                    690.0   \n",
              "22763                     530.0                    425.0   \n",
              "22764                    1227.0                   1323.0   \n",
              "22765                     580.0                    957.0   \n",
              "...                         ...                      ...   \n",
              "3615239                  1959.0                    975.0   \n",
              "3615240                  8234.0                   3115.0   \n",
              "3615241                  3820.0                   1378.0   \n",
              "3615243                 30824.0                  16897.0   \n",
              "3615244                  2204.0                    422.0   \n",
              "\n",
              "         Number of Trips 250-500  Number of Trips >=500             Row ID  \\\n",
              "21061                      166.0                   23.0  56-56045-20210606   \n",
              "22762                       35.0                    0.0  05-05011-20210606   \n",
              "22763                       41.0                    0.0  05-05013-20210606   \n",
              "22764                      132.0                   36.0  05-05015-20210606   \n",
              "22765                       61.0                    4.0  05-05017-20210606   \n",
              "...                          ...                    ...                ...   \n",
              "3615239                    122.0                   20.0  01-01067-20220205   \n",
              "3615240                    755.0                  138.0  01-01069-20220205   \n",
              "3615241                    214.0                   16.0  01-01071-20220205   \n",
              "3615243                   3635.0                  669.0  01-01073-20220205   \n",
              "3615244                      8.0                    2.0  01-01075-20220205   \n",
              "\n",
              "         Week  Month  Year  \n",
              "21061      23      6  2021  \n",
              "22762      23      6  2021  \n",
              "22763      23      6  2021  \n",
              "22764      23      6  2021  \n",
              "22765      23      6  2021  \n",
              "...       ...    ...   ...  \n",
              "3615239     5      2  2022  \n",
              "3615240     5      2  2022  \n",
              "3615241     5      2  2022  \n",
              "3615243     5      2  2022  \n",
              "3615244     5      2  2022  \n",
              "\n",
              "[2343932 rows x 23 columns]"
            ],
            "text/html": [
              "\n",
              "  <div id=\"df-1f4aeb19-55a2-4bf7-908f-346b9ac2fb1c\">\n",
              "    <div class=\"colab-df-container\">\n",
              "      <div>\n",
              "<style scoped>\n",
              "    .dataframe tbody tr th:only-of-type {\n",
              "        vertical-align: middle;\n",
              "    }\n",
              "\n",
              "    .dataframe tbody tr th {\n",
              "        vertical-align: top;\n",
              "    }\n",
              "\n",
              "    .dataframe thead th {\n",
              "        text-align: right;\n",
              "    }\n",
              "</style>\n",
              "<table border=\"1\" class=\"dataframe\">\n",
              "  <thead>\n",
              "    <tr style=\"text-align: right;\">\n",
              "      <th></th>\n",
              "      <th>Level</th>\n",
              "      <th>Date</th>\n",
              "      <th>State FIPS</th>\n",
              "      <th>State Postal Code</th>\n",
              "      <th>County FIPS</th>\n",
              "      <th>County Name</th>\n",
              "      <th>Population Staying at Home</th>\n",
              "      <th>Population Not Staying at Home</th>\n",
              "      <th>Number of Trips</th>\n",
              "      <th>Number of Trips &lt;1</th>\n",
              "      <th>...</th>\n",
              "      <th>Number of Trips 10-25</th>\n",
              "      <th>Number of Trips 25-50</th>\n",
              "      <th>Number of Trips 50-100</th>\n",
              "      <th>Number of Trips 100-250</th>\n",
              "      <th>Number of Trips 250-500</th>\n",
              "      <th>Number of Trips &gt;=500</th>\n",
              "      <th>Row ID</th>\n",
              "      <th>Week</th>\n",
              "      <th>Month</th>\n",
              "      <th>Year</th>\n",
              "    </tr>\n",
              "  </thead>\n",
              "  <tbody>\n",
              "    <tr>\n",
              "      <th>21061</th>\n",
              "      <td>County</td>\n",
              "      <td>2021-06-06</td>\n",
              "      <td>56.0</td>\n",
              "      <td>WY</td>\n",
              "      <td>56045.0</td>\n",
              "      <td>Weston County</td>\n",
              "      <td>1268.0</td>\n",
              "      <td>5659.0</td>\n",
              "      <td>22471.0</td>\n",
              "      <td>4160.0</td>\n",
              "      <td>...</td>\n",
              "      <td>5723.0</td>\n",
              "      <td>2202.0</td>\n",
              "      <td>3930.0</td>\n",
              "      <td>1160.0</td>\n",
              "      <td>166.0</td>\n",
              "      <td>23.0</td>\n",
              "      <td>56-56045-20210606</td>\n",
              "      <td>23</td>\n",
              "      <td>6</td>\n",
              "      <td>2021</td>\n",
              "    </tr>\n",
              "    <tr>\n",
              "      <th>22762</th>\n",
              "      <td>County</td>\n",
              "      <td>2021-06-06</td>\n",
              "      <td>5.0</td>\n",
              "      <td>AR</td>\n",
              "      <td>5011.0</td>\n",
              "      <td>Bradley County</td>\n",
              "      <td>1780.0</td>\n",
              "      <td>8983.0</td>\n",
              "      <td>25022.0</td>\n",
              "      <td>3411.0</td>\n",
              "      <td>...</td>\n",
              "      <td>3343.0</td>\n",
              "      <td>1793.0</td>\n",
              "      <td>1383.0</td>\n",
              "      <td>690.0</td>\n",
              "      <td>35.0</td>\n",
              "      <td>0.0</td>\n",
              "      <td>05-05011-20210606</td>\n",
              "      <td>23</td>\n",
              "      <td>6</td>\n",
              "      <td>2021</td>\n",
              "    </tr>\n",
              "    <tr>\n",
              "      <th>22763</th>\n",
              "      <td>County</td>\n",
              "      <td>2021-06-06</td>\n",
              "      <td>5.0</td>\n",
              "      <td>AR</td>\n",
              "      <td>5013.0</td>\n",
              "      <td>Calhoun County</td>\n",
              "      <td>571.0</td>\n",
              "      <td>4618.0</td>\n",
              "      <td>17543.0</td>\n",
              "      <td>2166.0</td>\n",
              "      <td>...</td>\n",
              "      <td>4277.0</td>\n",
              "      <td>1141.0</td>\n",
              "      <td>530.0</td>\n",
              "      <td>425.0</td>\n",
              "      <td>41.0</td>\n",
              "      <td>0.0</td>\n",
              "      <td>05-05013-20210606</td>\n",
              "      <td>23</td>\n",
              "      <td>6</td>\n",
              "      <td>2021</td>\n",
              "    </tr>\n",
              "    <tr>\n",
              "      <th>22764</th>\n",
              "      <td>County</td>\n",
              "      <td>2021-06-06</td>\n",
              "      <td>5.0</td>\n",
              "      <td>AR</td>\n",
              "      <td>5015.0</td>\n",
              "      <td>Carroll County</td>\n",
              "      <td>4386.0</td>\n",
              "      <td>23994.0</td>\n",
              "      <td>77047.0</td>\n",
              "      <td>14712.0</td>\n",
              "      <td>...</td>\n",
              "      <td>14712.0</td>\n",
              "      <td>4272.0</td>\n",
              "      <td>1227.0</td>\n",
              "      <td>1323.0</td>\n",
              "      <td>132.0</td>\n",
              "      <td>36.0</td>\n",
              "      <td>05-05015-20210606</td>\n",
              "      <td>23</td>\n",
              "      <td>6</td>\n",
              "      <td>2021</td>\n",
              "    </tr>\n",
              "    <tr>\n",
              "      <th>22765</th>\n",
              "      <td>County</td>\n",
              "      <td>2021-06-06</td>\n",
              "      <td>5.0</td>\n",
              "      <td>AR</td>\n",
              "      <td>5017.0</td>\n",
              "      <td>Chicot County</td>\n",
              "      <td>1356.0</td>\n",
              "      <td>8762.0</td>\n",
              "      <td>31550.0</td>\n",
              "      <td>9483.0</td>\n",
              "      <td>...</td>\n",
              "      <td>3857.0</td>\n",
              "      <td>1380.0</td>\n",
              "      <td>580.0</td>\n",
              "      <td>957.0</td>\n",
              "      <td>61.0</td>\n",
              "      <td>4.0</td>\n",
              "      <td>05-05017-20210606</td>\n",
              "      <td>23</td>\n",
              "      <td>6</td>\n",
              "      <td>2021</td>\n",
              "    </tr>\n",
              "    <tr>\n",
              "      <th>...</th>\n",
              "      <td>...</td>\n",
              "      <td>...</td>\n",
              "      <td>...</td>\n",
              "      <td>...</td>\n",
              "      <td>...</td>\n",
              "      <td>...</td>\n",
              "      <td>...</td>\n",
              "      <td>...</td>\n",
              "      <td>...</td>\n",
              "      <td>...</td>\n",
              "      <td>...</td>\n",
              "      <td>...</td>\n",
              "      <td>...</td>\n",
              "      <td>...</td>\n",
              "      <td>...</td>\n",
              "      <td>...</td>\n",
              "      <td>...</td>\n",
              "      <td>...</td>\n",
              "      <td>...</td>\n",
              "      <td>...</td>\n",
              "      <td>...</td>\n",
              "    </tr>\n",
              "    <tr>\n",
              "      <th>3615239</th>\n",
              "      <td>County</td>\n",
              "      <td>2022-02-05</td>\n",
              "      <td>1.0</td>\n",
              "      <td>AL</td>\n",
              "      <td>1067.0</td>\n",
              "      <td>Henry County</td>\n",
              "      <td>1946.0</td>\n",
              "      <td>15259.0</td>\n",
              "      <td>69069.0</td>\n",
              "      <td>11791.0</td>\n",
              "      <td>...</td>\n",
              "      <td>14642.0</td>\n",
              "      <td>6865.0</td>\n",
              "      <td>1959.0</td>\n",
              "      <td>975.0</td>\n",
              "      <td>122.0</td>\n",
              "      <td>20.0</td>\n",
              "      <td>01-01067-20220205</td>\n",
              "      <td>5</td>\n",
              "      <td>2</td>\n",
              "      <td>2022</td>\n",
              "    </tr>\n",
              "    <tr>\n",
              "      <th>3615240</th>\n",
              "      <td>County</td>\n",
              "      <td>2022-02-05</td>\n",
              "      <td>1.0</td>\n",
              "      <td>AL</td>\n",
              "      <td>1069.0</td>\n",
              "      <td>Houston County</td>\n",
              "      <td>18024.0</td>\n",
              "      <td>87858.0</td>\n",
              "      <td>369592.0</td>\n",
              "      <td>93860.0</td>\n",
              "      <td>...</td>\n",
              "      <td>50254.0</td>\n",
              "      <td>15617.0</td>\n",
              "      <td>8234.0</td>\n",
              "      <td>3115.0</td>\n",
              "      <td>755.0</td>\n",
              "      <td>138.0</td>\n",
              "      <td>01-01069-20220205</td>\n",
              "      <td>5</td>\n",
              "      <td>2</td>\n",
              "      <td>2022</td>\n",
              "    </tr>\n",
              "    <tr>\n",
              "      <th>3615241</th>\n",
              "      <td>County</td>\n",
              "      <td>2022-02-05</td>\n",
              "      <td>1.0</td>\n",
              "      <td>AL</td>\n",
              "      <td>1071.0</td>\n",
              "      <td>Jackson County</td>\n",
              "      <td>7857.0</td>\n",
              "      <td>43769.0</td>\n",
              "      <td>186441.0</td>\n",
              "      <td>33567.0</td>\n",
              "      <td>...</td>\n",
              "      <td>34943.0</td>\n",
              "      <td>16311.0</td>\n",
              "      <td>3820.0</td>\n",
              "      <td>1378.0</td>\n",
              "      <td>214.0</td>\n",
              "      <td>16.0</td>\n",
              "      <td>01-01071-20220205</td>\n",
              "      <td>5</td>\n",
              "      <td>2</td>\n",
              "      <td>2022</td>\n",
              "    </tr>\n",
              "    <tr>\n",
              "      <th>3615243</th>\n",
              "      <td>County</td>\n",
              "      <td>2022-02-05</td>\n",
              "      <td>1.0</td>\n",
              "      <td>AL</td>\n",
              "      <td>1073.0</td>\n",
              "      <td>Jefferson County</td>\n",
              "      <td>140986.0</td>\n",
              "      <td>517587.0</td>\n",
              "      <td>1991573.0</td>\n",
              "      <td>519985.0</td>\n",
              "      <td>...</td>\n",
              "      <td>332839.0</td>\n",
              "      <td>79186.0</td>\n",
              "      <td>30824.0</td>\n",
              "      <td>16897.0</td>\n",
              "      <td>3635.0</td>\n",
              "      <td>669.0</td>\n",
              "      <td>01-01073-20220205</td>\n",
              "      <td>5</td>\n",
              "      <td>2</td>\n",
              "      <td>2022</td>\n",
              "    </tr>\n",
              "    <tr>\n",
              "      <th>3615244</th>\n",
              "      <td>County</td>\n",
              "      <td>2022-02-05</td>\n",
              "      <td>1.0</td>\n",
              "      <td>AL</td>\n",
              "      <td>1075.0</td>\n",
              "      <td>Lamar County</td>\n",
              "      <td>2008.0</td>\n",
              "      <td>11797.0</td>\n",
              "      <td>51939.0</td>\n",
              "      <td>6721.0</td>\n",
              "      <td>...</td>\n",
              "      <td>9525.0</td>\n",
              "      <td>3884.0</td>\n",
              "      <td>2204.0</td>\n",
              "      <td>422.0</td>\n",
              "      <td>8.0</td>\n",
              "      <td>2.0</td>\n",
              "      <td>01-01075-20220205</td>\n",
              "      <td>5</td>\n",
              "      <td>2</td>\n",
              "      <td>2022</td>\n",
              "    </tr>\n",
              "  </tbody>\n",
              "</table>\n",
              "<p>2343932 rows × 23 columns</p>\n",
              "</div>\n",
              "      <button class=\"colab-df-convert\" onclick=\"convertToInteractive('df-1f4aeb19-55a2-4bf7-908f-346b9ac2fb1c')\"\n",
              "              title=\"Convert this dataframe to an interactive table.\"\n",
              "              style=\"display:none;\">\n",
              "        \n",
              "  <svg xmlns=\"http://www.w3.org/2000/svg\" height=\"24px\"viewBox=\"0 0 24 24\"\n",
              "       width=\"24px\">\n",
              "    <path d=\"M0 0h24v24H0V0z\" fill=\"none\"/>\n",
              "    <path d=\"M18.56 5.44l.94 2.06.94-2.06 2.06-.94-2.06-.94-.94-2.06-.94 2.06-2.06.94zm-11 1L8.5 8.5l.94-2.06 2.06-.94-2.06-.94L8.5 2.5l-.94 2.06-2.06.94zm10 10l.94 2.06.94-2.06 2.06-.94-2.06-.94-.94-2.06-.94 2.06-2.06.94z\"/><path d=\"M17.41 7.96l-1.37-1.37c-.4-.4-.92-.59-1.43-.59-.52 0-1.04.2-1.43.59L10.3 9.45l-7.72 7.72c-.78.78-.78 2.05 0 2.83L4 21.41c.39.39.9.59 1.41.59.51 0 1.02-.2 1.41-.59l7.78-7.78 2.81-2.81c.8-.78.8-2.07 0-2.86zM5.41 20L4 18.59l7.72-7.72 1.47 1.35L5.41 20z\"/>\n",
              "  </svg>\n",
              "      </button>\n",
              "      \n",
              "  <style>\n",
              "    .colab-df-container {\n",
              "      display:flex;\n",
              "      flex-wrap:wrap;\n",
              "      gap: 12px;\n",
              "    }\n",
              "\n",
              "    .colab-df-convert {\n",
              "      background-color: #E8F0FE;\n",
              "      border: none;\n",
              "      border-radius: 50%;\n",
              "      cursor: pointer;\n",
              "      display: none;\n",
              "      fill: #1967D2;\n",
              "      height: 32px;\n",
              "      padding: 0 0 0 0;\n",
              "      width: 32px;\n",
              "    }\n",
              "\n",
              "    .colab-df-convert:hover {\n",
              "      background-color: #E2EBFA;\n",
              "      box-shadow: 0px 1px 2px rgba(60, 64, 67, 0.3), 0px 1px 3px 1px rgba(60, 64, 67, 0.15);\n",
              "      fill: #174EA6;\n",
              "    }\n",
              "\n",
              "    [theme=dark] .colab-df-convert {\n",
              "      background-color: #3B4455;\n",
              "      fill: #D2E3FC;\n",
              "    }\n",
              "\n",
              "    [theme=dark] .colab-df-convert:hover {\n",
              "      background-color: #434B5C;\n",
              "      box-shadow: 0px 1px 3px 1px rgba(0, 0, 0, 0.15);\n",
              "      filter: drop-shadow(0px 1px 2px rgba(0, 0, 0, 0.3));\n",
              "      fill: #FFFFFF;\n",
              "    }\n",
              "  </style>\n",
              "\n",
              "      <script>\n",
              "        const buttonEl =\n",
              "          document.querySelector('#df-1f4aeb19-55a2-4bf7-908f-346b9ac2fb1c button.colab-df-convert');\n",
              "        buttonEl.style.display =\n",
              "          google.colab.kernel.accessAllowed ? 'block' : 'none';\n",
              "\n",
              "        async function convertToInteractive(key) {\n",
              "          const element = document.querySelector('#df-1f4aeb19-55a2-4bf7-908f-346b9ac2fb1c');\n",
              "          const dataTable =\n",
              "            await google.colab.kernel.invokeFunction('convertToInteractive',\n",
              "                                                     [key], {});\n",
              "          if (!dataTable) return;\n",
              "\n",
              "          const docLinkHtml = 'Like what you see? Visit the ' +\n",
              "            '<a target=\"_blank\" href=https://colab.research.google.com/notebooks/data_table.ipynb>data table notebook</a>'\n",
              "            + ' to learn more about interactive tables.';\n",
              "          element.innerHTML = '';\n",
              "          dataTable['output_type'] = 'display_data';\n",
              "          await google.colab.output.renderOutput(dataTable, element);\n",
              "          const docLink = document.createElement('div');\n",
              "          docLink.innerHTML = docLinkHtml;\n",
              "          element.appendChild(docLink);\n",
              "        }\n",
              "      </script>\n",
              "    </div>\n",
              "  </div>\n",
              "  "
            ]
          },
          "metadata": {},
          "execution_count": 16
        }
      ],
      "source": [
        "trips_by_distance_df"
      ]
    },
    {
      "cell_type": "code",
      "execution_count": null,
      "metadata": {
        "id": "mhhVgIhFUSj6"
      },
      "outputs": [],
      "source": [
        "## TESTING\n",
        "\n",
        "desired_columns_from_trips = ['Population Staying at Home',\n",
        "       'Population Not Staying at Home', 'Number of Trips',\n",
        "       'Number of Trips <1', 'Number of Trips 1-3', 'Number of Trips 3-5',\n",
        "       'Number of Trips 5-10', 'Number of Trips 10-25',\n",
        "       'Number of Trips 25-50', 'Number of Trips 50-100',\n",
        "       'Number of Trips 100-250', 'Number of Trips 250-500',\n",
        "       'Number of Trips >=500']\n",
        "\n",
        "final_df = trips_by_distance_df.groupby(['County Name', 'Month', 'Year'])[desired_columns_from_trips].mean().reset_index()\n",
        "\n",
        "df = df.rename(columns={'year': 'Year', 'month': 'Month'})\n",
        "merged_df = final_df.merge(df, how='outer', on=['County Name', 'Month', 'Year']).dropna()\n",
        "merged_df['Total Population'] = merged_df['Population Staying at Home'] + merged_df['Population Not Staying at Home']"
      ]
    },
    {
      "cell_type": "code",
      "execution_count": null,
      "metadata": {
        "colab": {
          "base_uri": "https://localhost:8080/",
          "height": 713
        },
        "id": "Lc7UqeR2WdxM",
        "outputId": "7c9baf93-3f4c-496b-e2f9-e1492c4deaa8"
      },
      "outputs": [
        {
          "output_type": "execute_result",
          "data": {
            "text/plain": [
              "            County Name  Month  Year  Population Staying at Home  \\\n",
              "0      Abbeville County      1  2020                 4232.300000   \n",
              "1      Abbeville County      1  2021                 4039.096774   \n",
              "2      Abbeville County      1  2022                 3724.709677   \n",
              "3      Abbeville County      2  2020                 4006.965517   \n",
              "4      Abbeville County      2  2021                 3534.428571   \n",
              "...                 ...    ...   ...                         ...   \n",
              "81687    Ziebach County     10  2021                  534.870968   \n",
              "81688    Ziebach County     11  2020                  631.827586   \n",
              "81689    Ziebach County     11  2021                  559.533333   \n",
              "81690    Ziebach County     12  2020                  686.516129   \n",
              "81691    Ziebach County     12  2021                  532.645161   \n",
              "\n",
              "       Population Not Staying at Home  Number of Trips  Number of Trips <1  \\\n",
              "0                        20294.700000     83310.300000        15548.500000   \n",
              "1                        20487.903226     85772.451613        15668.548387   \n",
              "2                        20802.290323     96813.774194        17439.387097   \n",
              "3                        20520.034483     80651.827586        14408.103448   \n",
              "4                        20992.571429    100145.285714        20369.750000   \n",
              "...                               ...              ...                 ...   \n",
              "81687                     2221.129032     12661.580645         1575.806452   \n",
              "81688                     2124.172414     21155.724138         4412.965517   \n",
              "81689                     2196.466667     10873.866667         1298.833333   \n",
              "81690                     2069.483871     15326.161290         3017.032258   \n",
              "81691                     2223.354839     11884.387097         1899.258065   \n",
              "\n",
              "       Number of Trips 1-3  Number of Trips 3-5  Number of Trips 5-10  ...  \\\n",
              "0             18629.900000         11017.200000          11989.400000  ...   \n",
              "1             17198.580645         10699.290323          14841.354839  ...   \n",
              "2             23709.032258         11725.483871          17461.161290  ...   \n",
              "3             17615.241379         10403.620690          12275.034483  ...   \n",
              "4             19399.357143         11808.428571          16285.000000  ...   \n",
              "...                    ...                  ...                   ...  ...   \n",
              "81687          1463.709677            94.516129            274.580645  ...   \n",
              "81688          3985.275862           402.758621            468.482759  ...   \n",
              "81689          2013.066667           193.600000            239.466667  ...   \n",
              "81690          2612.096774           235.064516            318.000000  ...   \n",
              "81691          2173.806452           291.290323            480.193548  ...   \n",
              "\n",
              "       Number of Trips 25-50  Number of Trips 50-100  Number of Trips 100-250  \\\n",
              "0                6316.300000             1689.700000               350.900000   \n",
              "1                6070.451613             1507.903226               324.645161   \n",
              "2                7026.064516             1246.193548               367.806452   \n",
              "3                5821.896552             1685.034483               491.827586   \n",
              "4                7368.107143             1929.857143               303.214286   \n",
              "...                      ...                     ...                      ...   \n",
              "81687            5237.709677              800.709677                94.548387   \n",
              "81688            5360.310345             1235.586207               179.827586   \n",
              "81689            3550.033333              636.200000                96.533333   \n",
              "81690            4157.096774              958.161290               208.516129   \n",
              "81691            3688.709677              645.741935               105.548387   \n",
              "\n",
              "       Number of Trips 250-500  Number of Trips >=500  countyFIPS State  \\\n",
              "0                   108.400000              35.800000       45001    SC   \n",
              "1                    40.580645              16.612903       45001    SC   \n",
              "2                    41.741935              18.516129       45001    SC   \n",
              "3                    71.206897              78.068966       45001    SC   \n",
              "4                    41.571429              17.964286       45001    SC   \n",
              "...                        ...                    ...         ...   ...   \n",
              "81687                 0.000000               0.000000       46137    SD   \n",
              "81688                 0.000000               0.000000       46137    SD   \n",
              "81689                 0.000000               0.000000       46137    SD   \n",
              "81690                 0.000000               0.000000       46137    SD   \n",
              "81691                 0.000000               0.000000       46137    SD   \n",
              "\n",
              "          cases  deaths  Total Population  \n",
              "0           0.0     0.0           24527.0  \n",
              "1       46891.0   834.0           24527.0  \n",
              "2      160983.0  1750.0           24527.0  \n",
              "3           0.0     0.0           24527.0  \n",
              "4       58234.0   918.0           24527.0  \n",
              "...         ...     ...               ...  \n",
              "81687   12085.0   284.0            2756.0  \n",
              "81688    4404.0   114.0            2756.0  \n",
              "81689   13498.0   300.0            2756.0  \n",
              "81690    8229.0   219.0            2756.0  \n",
              "81691   14782.0   320.0            2756.0  \n",
              "\n",
              "[80148 rows x 21 columns]"
            ],
            "text/html": [
              "\n",
              "  <div id=\"df-4b8e6ed3-e8b8-4532-a531-cefd68453e0d\">\n",
              "    <div class=\"colab-df-container\">\n",
              "      <div>\n",
              "<style scoped>\n",
              "    .dataframe tbody tr th:only-of-type {\n",
              "        vertical-align: middle;\n",
              "    }\n",
              "\n",
              "    .dataframe tbody tr th {\n",
              "        vertical-align: top;\n",
              "    }\n",
              "\n",
              "    .dataframe thead th {\n",
              "        text-align: right;\n",
              "    }\n",
              "</style>\n",
              "<table border=\"1\" class=\"dataframe\">\n",
              "  <thead>\n",
              "    <tr style=\"text-align: right;\">\n",
              "      <th></th>\n",
              "      <th>County Name</th>\n",
              "      <th>Month</th>\n",
              "      <th>Year</th>\n",
              "      <th>Population Staying at Home</th>\n",
              "      <th>Population Not Staying at Home</th>\n",
              "      <th>Number of Trips</th>\n",
              "      <th>Number of Trips &lt;1</th>\n",
              "      <th>Number of Trips 1-3</th>\n",
              "      <th>Number of Trips 3-5</th>\n",
              "      <th>Number of Trips 5-10</th>\n",
              "      <th>...</th>\n",
              "      <th>Number of Trips 25-50</th>\n",
              "      <th>Number of Trips 50-100</th>\n",
              "      <th>Number of Trips 100-250</th>\n",
              "      <th>Number of Trips 250-500</th>\n",
              "      <th>Number of Trips &gt;=500</th>\n",
              "      <th>countyFIPS</th>\n",
              "      <th>State</th>\n",
              "      <th>cases</th>\n",
              "      <th>deaths</th>\n",
              "      <th>Total Population</th>\n",
              "    </tr>\n",
              "  </thead>\n",
              "  <tbody>\n",
              "    <tr>\n",
              "      <th>0</th>\n",
              "      <td>Abbeville County</td>\n",
              "      <td>1</td>\n",
              "      <td>2020</td>\n",
              "      <td>4232.300000</td>\n",
              "      <td>20294.700000</td>\n",
              "      <td>83310.300000</td>\n",
              "      <td>15548.500000</td>\n",
              "      <td>18629.900000</td>\n",
              "      <td>11017.200000</td>\n",
              "      <td>11989.400000</td>\n",
              "      <td>...</td>\n",
              "      <td>6316.300000</td>\n",
              "      <td>1689.700000</td>\n",
              "      <td>350.900000</td>\n",
              "      <td>108.400000</td>\n",
              "      <td>35.800000</td>\n",
              "      <td>45001</td>\n",
              "      <td>SC</td>\n",
              "      <td>0.0</td>\n",
              "      <td>0.0</td>\n",
              "      <td>24527.0</td>\n",
              "    </tr>\n",
              "    <tr>\n",
              "      <th>1</th>\n",
              "      <td>Abbeville County</td>\n",
              "      <td>1</td>\n",
              "      <td>2021</td>\n",
              "      <td>4039.096774</td>\n",
              "      <td>20487.903226</td>\n",
              "      <td>85772.451613</td>\n",
              "      <td>15668.548387</td>\n",
              "      <td>17198.580645</td>\n",
              "      <td>10699.290323</td>\n",
              "      <td>14841.354839</td>\n",
              "      <td>...</td>\n",
              "      <td>6070.451613</td>\n",
              "      <td>1507.903226</td>\n",
              "      <td>324.645161</td>\n",
              "      <td>40.580645</td>\n",
              "      <td>16.612903</td>\n",
              "      <td>45001</td>\n",
              "      <td>SC</td>\n",
              "      <td>46891.0</td>\n",
              "      <td>834.0</td>\n",
              "      <td>24527.0</td>\n",
              "    </tr>\n",
              "    <tr>\n",
              "      <th>2</th>\n",
              "      <td>Abbeville County</td>\n",
              "      <td>1</td>\n",
              "      <td>2022</td>\n",
              "      <td>3724.709677</td>\n",
              "      <td>20802.290323</td>\n",
              "      <td>96813.774194</td>\n",
              "      <td>17439.387097</td>\n",
              "      <td>23709.032258</td>\n",
              "      <td>11725.483871</td>\n",
              "      <td>17461.161290</td>\n",
              "      <td>...</td>\n",
              "      <td>7026.064516</td>\n",
              "      <td>1246.193548</td>\n",
              "      <td>367.806452</td>\n",
              "      <td>41.741935</td>\n",
              "      <td>18.516129</td>\n",
              "      <td>45001</td>\n",
              "      <td>SC</td>\n",
              "      <td>160983.0</td>\n",
              "      <td>1750.0</td>\n",
              "      <td>24527.0</td>\n",
              "    </tr>\n",
              "    <tr>\n",
              "      <th>3</th>\n",
              "      <td>Abbeville County</td>\n",
              "      <td>2</td>\n",
              "      <td>2020</td>\n",
              "      <td>4006.965517</td>\n",
              "      <td>20520.034483</td>\n",
              "      <td>80651.827586</td>\n",
              "      <td>14408.103448</td>\n",
              "      <td>17615.241379</td>\n",
              "      <td>10403.620690</td>\n",
              "      <td>12275.034483</td>\n",
              "      <td>...</td>\n",
              "      <td>5821.896552</td>\n",
              "      <td>1685.034483</td>\n",
              "      <td>491.827586</td>\n",
              "      <td>71.206897</td>\n",
              "      <td>78.068966</td>\n",
              "      <td>45001</td>\n",
              "      <td>SC</td>\n",
              "      <td>0.0</td>\n",
              "      <td>0.0</td>\n",
              "      <td>24527.0</td>\n",
              "    </tr>\n",
              "    <tr>\n",
              "      <th>4</th>\n",
              "      <td>Abbeville County</td>\n",
              "      <td>2</td>\n",
              "      <td>2021</td>\n",
              "      <td>3534.428571</td>\n",
              "      <td>20992.571429</td>\n",
              "      <td>100145.285714</td>\n",
              "      <td>20369.750000</td>\n",
              "      <td>19399.357143</td>\n",
              "      <td>11808.428571</td>\n",
              "      <td>16285.000000</td>\n",
              "      <td>...</td>\n",
              "      <td>7368.107143</td>\n",
              "      <td>1929.857143</td>\n",
              "      <td>303.214286</td>\n",
              "      <td>41.571429</td>\n",
              "      <td>17.964286</td>\n",
              "      <td>45001</td>\n",
              "      <td>SC</td>\n",
              "      <td>58234.0</td>\n",
              "      <td>918.0</td>\n",
              "      <td>24527.0</td>\n",
              "    </tr>\n",
              "    <tr>\n",
              "      <th>...</th>\n",
              "      <td>...</td>\n",
              "      <td>...</td>\n",
              "      <td>...</td>\n",
              "      <td>...</td>\n",
              "      <td>...</td>\n",
              "      <td>...</td>\n",
              "      <td>...</td>\n",
              "      <td>...</td>\n",
              "      <td>...</td>\n",
              "      <td>...</td>\n",
              "      <td>...</td>\n",
              "      <td>...</td>\n",
              "      <td>...</td>\n",
              "      <td>...</td>\n",
              "      <td>...</td>\n",
              "      <td>...</td>\n",
              "      <td>...</td>\n",
              "      <td>...</td>\n",
              "      <td>...</td>\n",
              "      <td>...</td>\n",
              "      <td>...</td>\n",
              "    </tr>\n",
              "    <tr>\n",
              "      <th>81687</th>\n",
              "      <td>Ziebach County</td>\n",
              "      <td>10</td>\n",
              "      <td>2021</td>\n",
              "      <td>534.870968</td>\n",
              "      <td>2221.129032</td>\n",
              "      <td>12661.580645</td>\n",
              "      <td>1575.806452</td>\n",
              "      <td>1463.709677</td>\n",
              "      <td>94.516129</td>\n",
              "      <td>274.580645</td>\n",
              "      <td>...</td>\n",
              "      <td>5237.709677</td>\n",
              "      <td>800.709677</td>\n",
              "      <td>94.548387</td>\n",
              "      <td>0.000000</td>\n",
              "      <td>0.000000</td>\n",
              "      <td>46137</td>\n",
              "      <td>SD</td>\n",
              "      <td>12085.0</td>\n",
              "      <td>284.0</td>\n",
              "      <td>2756.0</td>\n",
              "    </tr>\n",
              "    <tr>\n",
              "      <th>81688</th>\n",
              "      <td>Ziebach County</td>\n",
              "      <td>11</td>\n",
              "      <td>2020</td>\n",
              "      <td>631.827586</td>\n",
              "      <td>2124.172414</td>\n",
              "      <td>21155.724138</td>\n",
              "      <td>4412.965517</td>\n",
              "      <td>3985.275862</td>\n",
              "      <td>402.758621</td>\n",
              "      <td>468.482759</td>\n",
              "      <td>...</td>\n",
              "      <td>5360.310345</td>\n",
              "      <td>1235.586207</td>\n",
              "      <td>179.827586</td>\n",
              "      <td>0.000000</td>\n",
              "      <td>0.000000</td>\n",
              "      <td>46137</td>\n",
              "      <td>SD</td>\n",
              "      <td>4404.0</td>\n",
              "      <td>114.0</td>\n",
              "      <td>2756.0</td>\n",
              "    </tr>\n",
              "    <tr>\n",
              "      <th>81689</th>\n",
              "      <td>Ziebach County</td>\n",
              "      <td>11</td>\n",
              "      <td>2021</td>\n",
              "      <td>559.533333</td>\n",
              "      <td>2196.466667</td>\n",
              "      <td>10873.866667</td>\n",
              "      <td>1298.833333</td>\n",
              "      <td>2013.066667</td>\n",
              "      <td>193.600000</td>\n",
              "      <td>239.466667</td>\n",
              "      <td>...</td>\n",
              "      <td>3550.033333</td>\n",
              "      <td>636.200000</td>\n",
              "      <td>96.533333</td>\n",
              "      <td>0.000000</td>\n",
              "      <td>0.000000</td>\n",
              "      <td>46137</td>\n",
              "      <td>SD</td>\n",
              "      <td>13498.0</td>\n",
              "      <td>300.0</td>\n",
              "      <td>2756.0</td>\n",
              "    </tr>\n",
              "    <tr>\n",
              "      <th>81690</th>\n",
              "      <td>Ziebach County</td>\n",
              "      <td>12</td>\n",
              "      <td>2020</td>\n",
              "      <td>686.516129</td>\n",
              "      <td>2069.483871</td>\n",
              "      <td>15326.161290</td>\n",
              "      <td>3017.032258</td>\n",
              "      <td>2612.096774</td>\n",
              "      <td>235.064516</td>\n",
              "      <td>318.000000</td>\n",
              "      <td>...</td>\n",
              "      <td>4157.096774</td>\n",
              "      <td>958.161290</td>\n",
              "      <td>208.516129</td>\n",
              "      <td>0.000000</td>\n",
              "      <td>0.000000</td>\n",
              "      <td>46137</td>\n",
              "      <td>SD</td>\n",
              "      <td>8229.0</td>\n",
              "      <td>219.0</td>\n",
              "      <td>2756.0</td>\n",
              "    </tr>\n",
              "    <tr>\n",
              "      <th>81691</th>\n",
              "      <td>Ziebach County</td>\n",
              "      <td>12</td>\n",
              "      <td>2021</td>\n",
              "      <td>532.645161</td>\n",
              "      <td>2223.354839</td>\n",
              "      <td>11884.387097</td>\n",
              "      <td>1899.258065</td>\n",
              "      <td>2173.806452</td>\n",
              "      <td>291.290323</td>\n",
              "      <td>480.193548</td>\n",
              "      <td>...</td>\n",
              "      <td>3688.709677</td>\n",
              "      <td>645.741935</td>\n",
              "      <td>105.548387</td>\n",
              "      <td>0.000000</td>\n",
              "      <td>0.000000</td>\n",
              "      <td>46137</td>\n",
              "      <td>SD</td>\n",
              "      <td>14782.0</td>\n",
              "      <td>320.0</td>\n",
              "      <td>2756.0</td>\n",
              "    </tr>\n",
              "  </tbody>\n",
              "</table>\n",
              "<p>80148 rows × 21 columns</p>\n",
              "</div>\n",
              "      <button class=\"colab-df-convert\" onclick=\"convertToInteractive('df-4b8e6ed3-e8b8-4532-a531-cefd68453e0d')\"\n",
              "              title=\"Convert this dataframe to an interactive table.\"\n",
              "              style=\"display:none;\">\n",
              "        \n",
              "  <svg xmlns=\"http://www.w3.org/2000/svg\" height=\"24px\"viewBox=\"0 0 24 24\"\n",
              "       width=\"24px\">\n",
              "    <path d=\"M0 0h24v24H0V0z\" fill=\"none\"/>\n",
              "    <path d=\"M18.56 5.44l.94 2.06.94-2.06 2.06-.94-2.06-.94-.94-2.06-.94 2.06-2.06.94zm-11 1L8.5 8.5l.94-2.06 2.06-.94-2.06-.94L8.5 2.5l-.94 2.06-2.06.94zm10 10l.94 2.06.94-2.06 2.06-.94-2.06-.94-.94-2.06-.94 2.06-2.06.94z\"/><path d=\"M17.41 7.96l-1.37-1.37c-.4-.4-.92-.59-1.43-.59-.52 0-1.04.2-1.43.59L10.3 9.45l-7.72 7.72c-.78.78-.78 2.05 0 2.83L4 21.41c.39.39.9.59 1.41.59.51 0 1.02-.2 1.41-.59l7.78-7.78 2.81-2.81c.8-.78.8-2.07 0-2.86zM5.41 20L4 18.59l7.72-7.72 1.47 1.35L5.41 20z\"/>\n",
              "  </svg>\n",
              "      </button>\n",
              "      \n",
              "  <style>\n",
              "    .colab-df-container {\n",
              "      display:flex;\n",
              "      flex-wrap:wrap;\n",
              "      gap: 12px;\n",
              "    }\n",
              "\n",
              "    .colab-df-convert {\n",
              "      background-color: #E8F0FE;\n",
              "      border: none;\n",
              "      border-radius: 50%;\n",
              "      cursor: pointer;\n",
              "      display: none;\n",
              "      fill: #1967D2;\n",
              "      height: 32px;\n",
              "      padding: 0 0 0 0;\n",
              "      width: 32px;\n",
              "    }\n",
              "\n",
              "    .colab-df-convert:hover {\n",
              "      background-color: #E2EBFA;\n",
              "      box-shadow: 0px 1px 2px rgba(60, 64, 67, 0.3), 0px 1px 3px 1px rgba(60, 64, 67, 0.15);\n",
              "      fill: #174EA6;\n",
              "    }\n",
              "\n",
              "    [theme=dark] .colab-df-convert {\n",
              "      background-color: #3B4455;\n",
              "      fill: #D2E3FC;\n",
              "    }\n",
              "\n",
              "    [theme=dark] .colab-df-convert:hover {\n",
              "      background-color: #434B5C;\n",
              "      box-shadow: 0px 1px 3px 1px rgba(0, 0, 0, 0.15);\n",
              "      filter: drop-shadow(0px 1px 2px rgba(0, 0, 0, 0.3));\n",
              "      fill: #FFFFFF;\n",
              "    }\n",
              "  </style>\n",
              "\n",
              "      <script>\n",
              "        const buttonEl =\n",
              "          document.querySelector('#df-4b8e6ed3-e8b8-4532-a531-cefd68453e0d button.colab-df-convert');\n",
              "        buttonEl.style.display =\n",
              "          google.colab.kernel.accessAllowed ? 'block' : 'none';\n",
              "\n",
              "        async function convertToInteractive(key) {\n",
              "          const element = document.querySelector('#df-4b8e6ed3-e8b8-4532-a531-cefd68453e0d');\n",
              "          const dataTable =\n",
              "            await google.colab.kernel.invokeFunction('convertToInteractive',\n",
              "                                                     [key], {});\n",
              "          if (!dataTable) return;\n",
              "\n",
              "          const docLinkHtml = 'Like what you see? Visit the ' +\n",
              "            '<a target=\"_blank\" href=https://colab.research.google.com/notebooks/data_table.ipynb>data table notebook</a>'\n",
              "            + ' to learn more about interactive tables.';\n",
              "          element.innerHTML = '';\n",
              "          dataTable['output_type'] = 'display_data';\n",
              "          await google.colab.output.renderOutput(dataTable, element);\n",
              "          const docLink = document.createElement('div');\n",
              "          docLink.innerHTML = docLinkHtml;\n",
              "          element.appendChild(docLink);\n",
              "        }\n",
              "      </script>\n",
              "    </div>\n",
              "  </div>\n",
              "  "
            ]
          },
          "metadata": {},
          "execution_count": 46
        }
      ],
      "source": [
        "merged_df"
      ]
    },
    {
      "cell_type": "markdown",
      "source": [
        "# Exploritory Data Analysis\n",
        "\n",
        "---\n",
        "\n",
        "*   **Coerrelational Heatmap:**\n",
        "We  wanted to see how and/or if the inputs were correlated. Clearely they are however this should not necessarily be a concern in our case.\n",
        "\n",
        "*   **Cases and Deaths Over Time by County Plot:** The GIFs below show the change in cases and deaths respectively over the span of time we examined. It is condenced to month-year intervals for clarity."
      ],
      "metadata": {
        "id": "RvUHod17rXqL"
      }
    },
    {
      "cell_type": "code",
      "execution_count": null,
      "metadata": {
        "colab": {
          "base_uri": "https://localhost:8080/",
          "height": 449
        },
        "id": "R5njEI48f3ih",
        "outputId": "fa5f4c43-e65c-46ae-c222-d804de0ad250"
      },
      "outputs": [
        {
          "output_type": "display_data",
          "data": {
            "text/plain": [
              "<Figure size 432x288 with 2 Axes>"
            ],
            "image/png": "[encoded data removed]"
          },
          "metadata": {
            "needs_background": "light"
          }
        },
        {
          "output_type": "display_data",
          "data": {
            "text/plain": [
              "<Figure size 576x576 with 0 Axes>"
            ]
          },
          "metadata": {}
        }
      ],
      "source": [
        "# merged_df\n",
        "# corr_matrix = merged_df.corr()\n",
        "\n",
        "corr_matrix = merged_df[['countyFIPS', 'Total Population', 'Population Staying at Home',\n",
        "       'Population Not Staying at Home', 'Number of Trips',\n",
        "       'Number of Trips <1', 'Number of Trips 1-3', 'Number of Trips 3-5',\n",
        "       'Number of Trips 5-10', 'Number of Trips 10-25',\n",
        "       'Number of Trips 25-50', 'Number of Trips 50-100',\n",
        "       'Number of Trips 100-250', 'Number of Trips 250-500',\n",
        "       'Number of Trips >=500']].corr()\n",
        "\n",
        "# # TO-DO: Plot correlation heatmap (4 points)\n",
        "dataplot = sns.heatmap(corr_matrix, cmap='RdBu', vmin=-1, vmax=1).set(title='Correlation Heatmap')\n",
        "plt.figure(figsize = (8,8))\n",
        "plt.show()"
      ]
    },
    {
      "cell_type": "code",
      "execution_count": null,
      "metadata": {
        "id": "12owbbNAho8Z"
      },
      "outputs": [],
      "source": [
        "# Geographical Map\n",
        "\n",
        "!pip install --upgrade plotly\n",
        "!pip install --upgrade geopandas\n",
        "!pip install --upgrade pyshp\n",
        "!pip install --upgrade shapely\n",
        "!pip install --upgrade plotly-geo\n",
        "!pip install colour\n",
        "!pip install -U kaleido"
      ]
    },
    {
      "cell_type": "code",
      "execution_count": null,
      "metadata": {
        "id": "Qu2v7KK8nZl9"
      },
      "outputs": [],
      "source": [
        "import plotly as plty\n",
        "import plotly.figure_factory as ff\n",
        "from colour import Color\n",
        "import warnings"
      ]
    },
    {
      "cell_type": "code",
      "execution_count": null,
      "metadata": {
        "id": "at8iiq22CoRN"
      },
      "outputs": [],
      "source": [
        "# Geographical Maps #\n",
        "#################################\n",
        "###### Deaths over Time GIF ######\n",
        "#################################\n",
        "merged_df['countyFIPS'] = merged_df['countyFIPS'].apply(lambda x : str(int(x)) if int(x) > 9999 else '0' + str(int(x)))\n",
        "\n",
        "FIPS_with_incomplete_data =['02060', '02100', '02164', '06003', '08053', '30069', '30103', '31005', '31115', '38087', '48033', '48261']\n",
        "# droop rows with fips taht have data incomplete\n",
        "# df.drop(df[df.Fruit.isin([\"Apple\", \"Orange\"])].index)\n",
        "gk = merged_df.drop(merged_df[merged_df.countyFIPS.isin(FIPS_with_incomplete_data)].index).sort_values(['Year','Month'],ascending=True).groupby('countyFIPS')\n",
        "\n",
        "month = 1\n",
        "year = 2020\n",
        "\n",
        "death_by_county_month_year_values = gk.apply(lambda x : x[(merged_df['Month'] == month) & (merged_df['Year'] == year)]['deaths'])\n",
        "fips_list = [x[0] for x in death_by_county_month_year_values.keys()]\n",
        "\n",
        "dates_list = [(2020, 1), (2020, 2), (2020, 3), (2020, 4), (2020, 5), (2020, 6), (2020, 7), (2020, 8), (2020, 9), (2020, 10), (2020, 11), (2020, 12), (2021, 1), (2021, 2), (2021, 3), (2021, 4), (2021, 5), (2021, 6), (2021, 7), (2021, 8), (2021, 9), (2021, 10), (2021, 11), (2021, 12), (2022, 1), (2022, 2)]\n",
        "\n",
        "endpts = [100, 1000, 25000, 50000, 100000, 300000, 600000, 900000] # endpts = list(np.mgrid[min(values):max(values) : 5])\n",
        "red = Color(\"grey\")\n",
        "colors = ['rgb({}, {}, {})'.format(int(x.rgb[0]*256), int(x.rgb[1]*256), int(x.rgb[2]*256)) for x in list(red.range_to(Color(\"red\"),len(endpts)+2))]\n",
        "\n",
        "with warnings.catch_warnings():\n",
        "  warnings.simplefilter(\"ignore\")\n",
        "  for date in dates_list:\n",
        "\n",
        "    if date[1] == 1: # This stops the loop from running.\n",
        "     break\n",
        "\n",
        "    death_by_county_month_year_values = gk.apply(lambda x : x[(merged_df['Month'] == date[1]) & (merged_df['Year'] == date[0])]['deaths'])\n",
        "    fips_list\n",
        "    fig = ff.create_choropleth(fips=fips_list,\n",
        "                              values=death_by_county_month_year_values,\n",
        "                              binning_endpoints=endpts,\n",
        "                              county_outline={'color': 'rgb(255,255,255)', 'width': 0.5},\n",
        "                              round_legend_values=True,\n",
        "                              legend_title='Deaths by County',\n",
        "                              title='COVID-19 Deaths by County ' + str( 0 if date[1] < 10 else '') + str(date[1]) + '/' + str(date[0]),\n",
        "                              colorscale=colors,\n",
        "                              exponent_format=True,\n",
        "                              )\n",
        "    fig.show()"
      ]
    },
    {
      "cell_type": "markdown",
      "source": [
        "---\n",
        "\n",
        "\n",
        "### These GIFS are generated from the code above. I hosted the images on an external file service because the programatic generation of the images takes a really long time.\n",
        "\n",
        "---"
      ],
      "metadata": {
        "id": "L9fzyEVYwAFE"
      }
    },
    {
      "cell_type": "code",
      "execution_count": null,
      "metadata": {
        "id": "ZEzmdof8L-eD",
        "colab": {
          "base_uri": "https://localhost:8080/",
          "height": 471
        },
        "outputId": "7ef8d047-15c9-439c-b28e-2218ca74b46c"
      },
      "outputs": [
        {
          "output_type": "execute_result",
          "data": {
            "text/plain": [
              "<IPython.core.display.Image object>"
            ],
            "text/html": [
              "<img src=\"https://i.ibb.co/wL0fhQS/covid-cases-gif.gif\"/>"
            ]
          },
          "metadata": {},
          "execution_count": 59
        }
      ],
      "source": [
        "# These GIFS are generated from the code above. I hosted the images on an external file service because\n",
        "# the programatic generation of the images takes a really long time.\n",
        "\n",
        "from IPython.display import Image\n",
        "Image(url='https://i.ibb.co/wL0fhQS/covid-cases-gif.gif')"
      ]
    },
    {
      "cell_type": "code",
      "execution_count": null,
      "metadata": {
        "id": "39_1f_PmLPur",
        "colab": {
          "base_uri": "https://localhost:8080/",
          "height": 471
        },
        "outputId": "3d9cba30-814b-4a6e-deae-5a54c93d885a"
      },
      "outputs": [
        {
          "output_type": "execute_result",
          "data": {
            "text/plain": [
              "<IPython.core.display.Image object>"
            ],
            "text/html": [
              "<img src=\"https://i.ibb.co/091C9Pd/covid-deaths-gif.gif\"/>"
            ]
          },
          "metadata": {},
          "execution_count": 58
        }
      ],
      "source": [
        "Image(url='https://i.ibb.co/091C9Pd/covid-deaths-gif.gif')"
      ]
    },
    {
      "cell_type": "code",
      "execution_count": null,
      "metadata": {
        "id": "pNflbtu0roqx",
        "colab": {
          "base_uri": "https://localhost:8080/"
        },
        "outputId": "ea1058dd-d86f-4fb5-ad61-8e8a66168c3b"
      },
      "outputs": [
        {
          "output_type": "stream",
          "name": "stdout",
          "text": [
            "Mounted at /content/drive\n"
          ]
        }
      ],
      "source": [
        "from google.colab import drive\n",
        "drive.mount('/content/drive')"
      ]
    },
    {
      "cell_type": "markdown",
      "metadata": {
        "id": "kqm6vj8kiSKZ"
      },
      "source": [
        "# Model Training & Prediction"
      ]
    },
    {
      "cell_type": "markdown",
      "metadata": {
        "id": "7caQ8hf-k_iG"
      },
      "source": [
        "## Preparing Data for Predictive Modeling"
      ]
    },
    {
      "cell_type": "markdown",
      "metadata": {
        "id": "auSFJHjy1aHE"
      },
      "source": [
        "### Normalize Data By County Population"
      ]
    },
    {
      "cell_type": "markdown",
      "metadata": {
        "id": "1V8CXNyq2Euc"
      },
      "source": [
        "Before we train our data using various predictive models, we'll first need to normalize it by adjusting for population."
      ]
    },
    {
      "cell_type": "code",
      "execution_count": null,
      "metadata": {
        "id": "YLLiCFsu3A78"
      },
      "outputs": [],
      "source": [
        "# divide relevant quantitative columns by county population to get per capita rates\n",
        "pop_adjusted_df = merged_df[['Population Staying at Home',\n",
        "       'Population Not Staying at Home', 'Number of Trips',\n",
        "       'Number of Trips <1', 'Number of Trips 1-3', 'Number of Trips 3-5',\n",
        "       'Number of Trips 5-10', 'Number of Trips 10-25',\n",
        "       'Number of Trips 25-50', 'Number of Trips 50-100',\n",
        "       'Number of Trips 100-250', 'Number of Trips 250-500',\n",
        "       'Number of Trips >=500', 'cases', 'deaths']].div(merged_df['Total Population'], axis=0)"
      ]
    },
    {
      "cell_type": "markdown",
      "metadata": {
        "id": "fo5Cez9I32-Q"
      },
      "source": [
        "### Define Features and Labels"
      ]
    },
    {
      "cell_type": "markdown",
      "metadata": {
        "id": "oo0yFjFc6MnM"
      },
      "source": [
        "The features for our predictive models will be all the per capita rates of the trip data in our dataset. The labels that we will be trying to predict are the cases per capita, deaths per capita and ratio of deaths per cases.\n"
      ]
    },
    {
      "cell_type": "code",
      "execution_count": null,
      "metadata": {
        "id": "6cPD5p1Hryuh"
      },
      "outputs": [],
      "source": [
        "# store columns that will be used as features\n",
        "x = pop_adjusted_df[['Population Staying at Home',\n",
        "       'Population Not Staying at Home', 'Number of Trips',\n",
        "       'Number of Trips <1', 'Number of Trips 1-3', 'Number of Trips 3-5',\n",
        "       'Number of Trips 5-10', 'Number of Trips 10-25',\n",
        "       'Number of Trips 25-50', 'Number of Trips 50-100',\n",
        "       'Number of Trips 100-250', 'Number of Trips 250-500',\n",
        "       'Number of Trips >=500']]\n",
        "\n",
        "# store the target columns\n",
        "y_case = pop_adjusted_df['cases']\n",
        "y_death = pop_adjusted_df['deaths']\n",
        "y_ratio = pop_adjusted_df['deaths']/pop_adjusted_df['cases']\n",
        "y_ratio.replace([np.inf, -np.inf], np.nan, inplace=True)\n",
        "\n",
        "# define list of labels\n",
        "labels = ['Cases', 'Deaths', 'Ratio']"
      ]
    },
    {
      "cell_type": "markdown",
      "metadata": {
        "id": "6PHoTxFT8Y7h"
      },
      "source": [
        "## Regression Models"
      ]
    },
    {
      "cell_type": "markdown",
      "metadata": {
        "id": "Wzdp2jWU8_J0"
      },
      "source": [
        "#### Package Imports"
      ]
    },
    {
      "cell_type": "code",
      "execution_count": null,
      "metadata": {
        "id": "M3nuBc6B9Afg"
      },
      "outputs": [],
      "source": [
        "from sklearn.linear_model import LinearRegression, Ridge, Lasso\n",
        "from sklearn.ensemble import RandomForestRegressor\n",
        "from sklearn.model_selection import GridSearchCV\n",
        "from sklearn.metrics import mean_squared_error\n",
        "from sklearn.model_selection import train_test_split, GridSearchCV"
      ]
    },
    {
      "cell_type": "markdown",
      "metadata": {
        "id": "sM5Q9uctlYDG"
      },
      "source": [
        "### Linear Regression"
      ]
    },
    {
      "cell_type": "markdown",
      "metadata": {
        "id": "i21vlFcZ-BOe"
      },
      "source": [
        "#### Model Training"
      ]
    },
    {
      "cell_type": "markdown",
      "metadata": {
        "id": "PCc71oaEvdWi"
      },
      "source": [
        "The `linear_regression_trainer` function is used to train our data using a unregularized linear regression model. It returns the test RMSE of the model."
      ]
    },
    {
      "cell_type": "code",
      "execution_count": null,
      "metadata": {
        "id": "SP5Cmfrnvcl0"
      },
      "outputs": [],
      "source": [
        "def linear_regression_trainer(label, x, y):\n",
        "  # split the training and test data\n",
        "  (x_train, x_test, y_train, y_test) = train_test_split(x, y, test_size=0.20, random_state=42)\n",
        "\n",
        "  # handle NaN (occurs with ratio label)\n",
        "  if label == 'Ratio':\n",
        "    x_train = x_train.drop(index = y_train[y_train.isna()].index)\n",
        "    y_train = y_train.dropna()\n",
        "\n",
        "    x_test = x_test.drop(index = y_test[y_test.isna()].index)\n",
        "    y_test = y_test.dropna()\n",
        "\n",
        "  # initialize the regressor\n",
        "  rgr = LinearRegression()\n",
        "\n",
        "  # fit the model to the training set\n",
        "  rgr.fit(x_train, y_train)\n",
        "\n",
        "  # make predictions on test set\n",
        "  y_pred = rgr.predict(x_test)\n",
        "\n",
        "  # store the RMSE score\n",
        "  rmse = mean_squared_error(y_test, y_pred) ** .5\n",
        "\n",
        "  print('\\nCompleted Linear Regression Model for %s' % (label))\n",
        "  print('RMSE score: %s\\n' % (rmse))"
      ]
    },
    {
      "cell_type": "markdown",
      "metadata": {
        "id": "I7QeM0VcGv_6"
      },
      "source": [
        "\n",
        "\n",
        "*   Separate models are created to predict the number of cases per capita, deaths per capita, and ratio of deaths per cases.\n",
        "*   For each model R-squared score is stored for performance analysis.\n",
        "\n"
      ]
    },
    {
      "cell_type": "code",
      "execution_count": null,
      "metadata": {
        "colab": {
          "base_uri": "https://localhost:8080/"
        },
        "id": "UM3XgxrJDZe9",
        "outputId": "2ed095bc-b816-46b6-9ef6-124858ae3fd3"
      },
      "outputs": [
        {
          "output_type": "stream",
          "name": "stdout",
          "text": [
            "\n",
            "Completed Linear Regression Model for Cases\n",
            "RMSE score: 3.082825920564909\n",
            "\n",
            "\n",
            "Completed Linear Regression Model for Deaths\n",
            "RMSE score: 0.0549594135570389\n",
            "\n",
            "\n",
            "Completed Linear Regression Model for Ratio\n",
            "RMSE score: 0.028865250248594182\n",
            "\n"
          ]
        }
      ],
      "source": [
        "# get R-squared score of unregularized linear regression model for each of the labels\n",
        "for label in labels:\n",
        "  if label == 'Cases':\n",
        "    linear_regression_trainer(label, x, y_case)\n",
        "  elif label == 'Deaths':\n",
        "    linear_regression_trainer(label, x, y_death)\n",
        "  elif label == 'Ratio':\n",
        "    linear_regression_trainer(label, x, y_ratio)"
      ]
    },
    {
      "cell_type": "markdown",
      "metadata": {
        "id": "M2Uz_6G8pwWh"
      },
      "source": [
        "### Penalized Regression"
      ]
    },
    {
      "cell_type": "markdown",
      "metadata": {
        "id": "ivufJsl5p2RL"
      },
      "source": [
        "#### Model Training"
      ]
    },
    {
      "cell_type": "markdown",
      "metadata": {
        "id": "bdqPuPat1rP_"
      },
      "source": [
        "The `penalized_regression_trainer` function is used to train our data using a penalized regression model. It returns the test RMSE score of the model."
      ]
    },
    {
      "cell_type": "code",
      "execution_count": null,
      "metadata": {
        "id": "hdmU-y0q10ME"
      },
      "outputs": [],
      "source": [
        "def penalized_regression_helper(label, penalization, alpha, x, y):\n",
        "  # split the training and test data\n",
        "  (x_train, x_test, y_train, y_test) = train_test_split(x, y, test_size=0.20, random_state=42)\n",
        "\n",
        "  # handle NaN (occurs with ratio label)\n",
        "  if label == 'Ratio':\n",
        "    x_train = x_train.drop(index = y_train[y_train.isna()].index)\n",
        "    y_train = y_train.dropna()\n",
        "\n",
        "    x_test = x_test.drop(index = y_test[y_test.isna()].index)\n",
        "    y_test = y_test.dropna()\n",
        "\n",
        "  if penalization == \"Ridge\":\n",
        "    model_string = \"Running ridge model alpha = {} for {}\".format(alpha, label)\n",
        "    model = Ridge(alpha = alpha, max_iter= 10000, random_state = 42)\n",
        "  else:\n",
        "    model_string = \"Running lasso model alpha = {} for {}\".format(alpha, label)\n",
        "    model = Lasso(alpha = alpha, max_iter = 10000, random_state = 42)\n",
        "\n",
        "  model.fit(x_train, y_train)\n",
        "  y_pred = model.predict(x_test)\n",
        "  rmse = mean_squared_error(y_test, y_pred) ** .5\n",
        "\n",
        "  print(model_string, \"| RMSE = {}\".format(rmse))\n",
        "\n",
        "  return rmse"
      ]
    },
    {
      "cell_type": "markdown",
      "metadata": {
        "id": "tqNbLRy72Ciz"
      },
      "source": [
        "*   We split the models into groups based on their target variable (i.e. cases, deaths, and deaths/cases)\n",
        "*   We run ridge and lasso models at a variety of alpha levels for each target variable\n",
        "\n"
      ]
    },
    {
      "cell_type": "code",
      "execution_count": null,
      "metadata": {
        "colab": {
          "base_uri": "https://localhost:8080/"
        },
        "id": "z5NhwurH2IRz",
        "outputId": "01c845eb-a36f-4342-d607-40764225763a"
      },
      "outputs": [
        {
          "output_type": "stream",
          "name": "stdout",
          "text": [
            "Running lasso model alpha = 3 for Cases | RMSE = 3.2141143876034843\n",
            "Running lasso model alpha = 3 for Deaths | RMSE = 0.05727426122402301\n",
            "Running lasso model alpha = 3 for Ratio | RMSE = 0.028920318342428093\n",
            "Running lasso model alpha = 2 for Cases | RMSE = 3.2141143876034843\n",
            "Running lasso model alpha = 2 for Deaths | RMSE = 0.05727426122402301\n",
            "Running lasso model alpha = 2 for Ratio | RMSE = 0.028920318342428093\n",
            "Running lasso model alpha = 1 for Cases | RMSE = 3.2141143876034843\n",
            "Running lasso model alpha = 1 for Deaths | RMSE = 0.05727426122402301\n",
            "Running lasso model alpha = 1 for Ratio | RMSE = 0.028920318342428093\n",
            "Running lasso model alpha = 0.1 for Cases | RMSE = 3.119823655685106\n",
            "Running lasso model alpha = 0.1 for Deaths | RMSE = 0.05727426122402301\n",
            "Running lasso model alpha = 0.1 for Ratio | RMSE = 0.028920318342428093\n",
            "Running lasso model alpha = 0.01 for Cases | RMSE = 3.097717299690161\n",
            "Running lasso model alpha = 0.01 for Deaths | RMSE = 0.05727426122402301\n",
            "Running lasso model alpha = 0.01 for Ratio | RMSE = 0.028920318342428093\n",
            "Running lasso model alpha = 0.001 for Cases | RMSE = 3.0854276698249175\n",
            "Running lasso model alpha = 0.001 for Deaths | RMSE = 0.05581886900484801\n",
            "Running lasso model alpha = 0.001 for Ratio | RMSE = 0.028920318342428093\n",
            "Running lasso model alpha = 0.0001 for Cases | RMSE = 3.083090044948801\n",
            "Running lasso model alpha = 0.0001 for Deaths | RMSE = 0.055138621677132925\n",
            "Running lasso model alpha = 0.0001 for Ratio | RMSE = 0.02890273167228519\n"
          ]
        },
        {
          "output_type": "stream",
          "name": "stderr",
          "text": [
            "/usr/local/lib/python3.7/dist-packages/sklearn/linear_model/_coordinate_descent.py:648: ConvergenceWarning:\n",
            "\n",
            "Objective did not converge. You might want to increase the number of iterations, check the scale of the features or consider increasing regularisation. Duality gap: 3.743e+02, tolerance: 7.037e+01\n",
            "\n"
          ]
        },
        {
          "output_type": "stream",
          "name": "stdout",
          "text": [
            "Running lasso model alpha = 1e-05 for Cases | RMSE = 3.082842146297736\n",
            "Running lasso model alpha = 1e-05 for Deaths | RMSE = 0.05503210485744984\n",
            "Running lasso model alpha = 1e-05 for Ratio | RMSE = 0.02889843972199181\n",
            "Running ridge model alpha = 3 for Cases | RMSE = 3.0842420968277344\n",
            "Running ridge model alpha = 3 for Deaths | RMSE = 0.055007048952493566\n",
            "Running ridge model alpha = 3 for Ratio | RMSE = 0.028886736140195816\n",
            "Running ridge model alpha = 2 for Cases | RMSE = 3.0839613378248347\n",
            "Running ridge model alpha = 2 for Deaths | RMSE = 0.05499299445950371\n",
            "Running ridge model alpha = 2 for Ratio | RMSE = 0.028884256349859635\n",
            "Running ridge model alpha = 1 for Cases | RMSE = 3.083508102613941\n",
            "Running ridge model alpha = 1 for Deaths | RMSE = 0.0549727336049112\n",
            "Running ridge model alpha = 1 for Ratio | RMSE = 0.02887919158885934\n",
            "Running ridge model alpha = 0.1 for Cases | RMSE = 3.0828847866542266\n",
            "Running ridge model alpha = 0.1 for Deaths | RMSE = 0.054957197415477055\n",
            "Running ridge model alpha = 0.1 for Ratio | RMSE = 0.028866816775735986\n",
            "Running ridge model alpha = 0.01 for Cases | RMSE = 3.082830793737067\n",
            "Running ridge model alpha = 0.01 for Deaths | RMSE = 0.05495906630156629\n",
            "Running ridge model alpha = 0.01 for Ratio | RMSE = 0.028865349976468523\n",
            "Running ridge model alpha = 0.001 for Cases | RMSE = 3.0828263941037157\n",
            "Running ridge model alpha = 0.001 for Deaths | RMSE = 0.05495937729275979\n",
            "Running ridge model alpha = 0.001 for Ratio | RMSE = 0.02886525928500647\n",
            "Running ridge model alpha = 0.0001 for Cases | RMSE = 3.082825967776369\n",
            "Running ridge model alpha = 0.0001 for Deaths | RMSE = 0.05495940991488053\n",
            "Running ridge model alpha = 0.0001 for Ratio | RMSE = 0.02886525114235469\n",
            "Running ridge model alpha = 1e-05 for Cases | RMSE = 3.082825925284626\n",
            "Running ridge model alpha = 1e-05 for Deaths | RMSE = 0.05495941319266541\n",
            "Running ridge model alpha = 1e-05 for Ratio | RMSE = 0.028865250337870886\n",
            "\n",
            "Optimal Model for Cases: \n",
            "    Label    Pen    Alpha      RMSE\n",
            "45  Cases  Ridge  0.00001  3.082826\n",
            "\n",
            "Optimal Model for Deaths: \n",
            "     Label    Pen  Alpha      RMSE\n",
            "34  Deaths  Ridge    0.1  0.054957\n",
            "\n",
            "Optimal Model for Ratio: \n",
            "    Label    Pen    Alpha      RMSE\n",
            "47  Ratio  Ridge  0.00001  0.028865\n"
          ]
        }
      ],
      "source": [
        "penalizations = [\"Lasso\",\"Ridge\"]\n",
        "alphas = [3, 2, 1, .1, .01, .001, .0001, .00001]\n",
        "cur_label = []\n",
        "cur_penal = []\n",
        "cur_alpha = []\n",
        "cur_rmse = []\n",
        "\n",
        "for pen in penalizations:\n",
        "  for alpha in alphas:\n",
        "\n",
        "    #testing for cases\n",
        "    cur_label.append(\"Cases\")\n",
        "    cur_penal.append(pen)\n",
        "    cur_alpha.append(alpha)\n",
        "    cur_rmse.append(penalized_regression_helper(\"Cases\", pen, alpha, x, y_case))\n",
        "\n",
        "    #testing for deaths\n",
        "    cur_label.append(\"Deaths\")\n",
        "    cur_penal.append(pen)\n",
        "    cur_alpha.append(alpha)\n",
        "    cur_rmse.append(penalized_regression_helper(\"Deaths\", pen, alpha, x, y_death))\n",
        "\n",
        "    #testing for ratio\n",
        "    cur_label.append(\"Ratio\")\n",
        "    cur_penal.append(pen)\n",
        "    cur_alpha.append(alpha)\n",
        "    cur_rmse.append(penalized_regression_helper(\"Ratio\", pen, alpha, x, y_ratio))\n",
        "\n",
        "penalized_results = pd.DataFrame(list(zip(cur_label,cur_penal,cur_alpha,cur_rmse)))\n",
        "penalized_results.columns = ['Label','Pen','Alpha','RMSE']\n",
        "\n",
        "#optimal model for cases\n",
        "cases_df = penalized_results[penalized_results['Label'] == \"Cases\"]\n",
        "print(\"\\nOptimal Model for Cases: \")\n",
        "print(cases_df[cases_df['RMSE'] == cases_df['RMSE'].min()])\n",
        "\n",
        "#optimal model for dealths\n",
        "deaths_df = penalized_results[penalized_results['Label'] == \"Deaths\"]\n",
        "print(\"\\nOptimal Model for Deaths: \")\n",
        "print(deaths_df[deaths_df['RMSE'] == deaths_df['RMSE'].min()])\n",
        "\n",
        "#optimal model for ratio\n",
        "ratio_df = penalized_results[penalized_results['Label'] == \"Ratio\"]\n",
        "print(\"\\nOptimal Model for Ratio: \")\n",
        "print(ratio_df[ratio_df['RMSE'] == ratio_df['RMSE'].min()])"
      ]
    },
    {
      "cell_type": "markdown",
      "source": [
        "Model Evaluation"
      ],
      "metadata": {
        "id": "porD3po9uVTJ"
      }
    },
    {
      "cell_type": "markdown",
      "source": [
        "\n",
        "\n",
        "*   Ther ewas a limited improvement in model accuracy as measured by test RMSE relative to linear regression\n",
        "*   Penalized regression favors low alphas\n",
        "*   Ridge regression to lasso regression\n",
        "\n"
      ],
      "metadata": {
        "id": "sZ6DKkopuev4"
      }
    },
    {
      "cell_type": "markdown",
      "metadata": {
        "id": "KRDPk4bEnKjF"
      },
      "source": [
        "### Random Forest Regression"
      ]
    },
    {
      "cell_type": "markdown",
      "metadata": {
        "id": "XjVDgo6NsHEO"
      },
      "source": [
        "#### Model Training"
      ]
    },
    {
      "cell_type": "markdown",
      "metadata": {
        "id": "q-EcC53NvSu1"
      },
      "source": [
        "The `random_forest_trainer` function is used to train our data using a random forest regressor, allowing for hyperparameter tuning by taking in a list of max tree depths to run. It returns a list of the models and their respective training and test accuracies."
      ]
    },
    {
      "cell_type": "code",
      "execution_count": null,
      "metadata": {
        "id": "QJhT1hsIvOE6"
      },
      "outputs": [],
      "source": [
        "def random_forest_trainer(parameters, label, x, y):\n",
        "  # split the training and test data for each tree depth\n",
        "  (x_train, x_test, y_train, y_test) = train_test_split(x, y, test_size=0.20, random_state=42)\n",
        "\n",
        "  # handle NaN (occurs with ratio label)\n",
        "  if label == 'Ratio':\n",
        "    x_train = x_train.drop(index = y_train[y_train.isna()].index)\n",
        "    y_train = y_train.dropna()\n",
        "\n",
        "    x_test = x_test.drop(index = y_test[y_test.isna()].index)\n",
        "    y_test = y_test.dropna()\n",
        "\n",
        "  # initialize the random forest regressor\n",
        "  rfc = RandomForestRegressor()\n",
        "\n",
        "  # tune random forest model with parameters\n",
        "  cv = GridSearchCV(rfc, parameters, cv=5)\n",
        "  cv.fit(x_train, y_train)\n",
        "\n",
        "  # make prediction on test set\n",
        "  y_pred = cv.predict(x_test)\n",
        "\n",
        "  # calculate the RMSE score\n",
        "  rmse = mean_squared_error(y_test, y_pred) ** .5\n",
        "\n",
        "  print('\\nCompleted Random Forest Regression Model for %s' % (label))\n",
        "  print('RMSE score: %s\\n' % (rmse))"
      ]
    },
    {
      "cell_type": "markdown",
      "metadata": {
        "id": "EpQ-t6DXssQI"
      },
      "source": [
        "\n",
        "\n",
        "*   Separate sets of models are run to predict the number of cases per capita, deaths per capita, and ratio of deaths per cases.\n",
        "*   Hyperparamter tuning of the random forest models for each of the labels we are trying to predict (cases per capita, deaths per capita, ratio of deaths per cases) is achieved through `max_depth` and `n_estimators`.\n",
        "*   The RMSE for the best model for each label is stored for performance analysis.\n",
        "\n"
      ]
    },
    {
      "cell_type": "code",
      "execution_count": null,
      "metadata": {
        "id": "iYWnbNFdFDYO"
      },
      "outputs": [],
      "source": [
        "# define parameters our random forest models will be tuned by\n",
        "parameters = {\n",
        "    \"n_estimators\":[5, 10, 50, 100],\n",
        "    \"max_depth\": [2, 4, 6, 8]\n",
        "}\n",
        "\n",
        "# get RMSE score of best random forest regression model for each of the labels\n",
        "for label in labels:\n",
        "  if label == 'Cases':\n",
        "    random_forest_trainer(parameters, label, x, y_case)\n",
        "  elif label == 'Deaths':\n",
        "    random_forest_trainer(parameters, label, x, y_death)\n",
        "  elif label == 'Ratio':\n",
        "    random_forest_trainer(parameters, label, x, y_ratio)"
      ]
    },
    {
      "cell_type": "markdown",
      "source": [
        "Completed Random Forest Regression Model for Cases\n",
        "\n",
        "RMSE score: 2.9773690238634423\n",
        "\n",
        "\n",
        "Completed Random Forest Regression Model for Deaths\n",
        "\n",
        "RMSE score: 0.05315467696853814\n",
        "\n",
        "\n",
        "Completed Random Forest Regression Model for Ratio\n",
        "\n",
        "RMSE score: 0.02486544636533546"
      ],
      "metadata": {
        "id": "ZMfcdAUWeMav"
      }
    },
    {
      "cell_type": "markdown",
      "metadata": {
        "id": "snjBpmeo0hs1"
      },
      "source": [
        "## Neural Network Model"
      ]
    },
    {
      "cell_type": "markdown",
      "source": [
        "#### Package Imports"
      ],
      "metadata": {
        "id": "uEzFwYJQPRs5"
      }
    },
    {
      "cell_type": "code",
      "source": [
        "import keras\n",
        "import tensorflow as tf\n",
        "from keras.models import Sequential\n",
        "from keras.wrappers.scikit_learn import KerasRegressor\n",
        "from sklearn.model_selection import cross_val_score\n",
        "from sklearn.model_selection import KFold\n",
        "from sklearn.preprocessing import StandardScaler\n",
        "from sklearn.pipeline import Pipeline\n",
        "from tensorflow.keras import layers\n",
        "from keras.layers import Dense, Dropout\n",
        "from keras.callbacks import EarlyStopping\n",
        "from keras import backend as K\n",
        "from sklearn.metrics import mean_squared_error"
      ],
      "metadata": {
        "id": "f6VTW9fVPd_k"
      },
      "execution_count": null,
      "outputs": []
    },
    {
      "cell_type": "markdown",
      "source": [
        "#### Model Training"
      ],
      "metadata": {
        "id": "91bRkElmPTi3"
      }
    },
    {
      "cell_type": "code",
      "execution_count": null,
      "metadata": {
        "id": "PA4OScPL-Q4D"
      },
      "outputs": [],
      "source": [
        "def root_mean_squared_error(y_true, y_pred):\n",
        "        return K.sqrt(K.mean(K.square(y_pred - y_true)))\n",
        "\n",
        "def create_model(num_layers, lr):\n",
        "\tmodel = Sequential()\n",
        "\tinitial_neurons = 2**num_layers\n",
        "\tmodel.add(Dense(initial_neurons, input_dim=len(x_train.columns), kernel_initializer='normal', activation='relu'))\n",
        "\tfor i in range(num_layers-1):\n",
        "\t\tmodel.add(Dense(initial_neurons/(2**(i+1)), kernel_initializer='normal', activation='relu'))\n",
        "\tmodel.add(Dense(1, kernel_initializer='normal'))\n",
        "\n",
        "\tmodel.compile(loss=root_mean_squared_error, optimizer='adam')\n",
        "\tK.set_value(model.optimizer.learning_rate, lr)\n",
        "\treturn model\n",
        "\n",
        "x_train, x_test, y_case_train, y_case_test, y_death_train, y_death_test, y_ratio_train, y_ratio_test = train_test_split(\\\n",
        "  x, y_case, y_death, y_ratio, test_size=0.20, random_state=42)"
      ]
    },
    {
      "cell_type": "code",
      "execution_count": null,
      "metadata": {
        "id": "YyKU0Hem-XRy"
      },
      "outputs": [],
      "source": [
        "layers = [3,10,15]\n",
        "rates = [0.1, 0.01, 0.001]\n",
        "epochs = [25]\n",
        "\n",
        "def test_model(x_t, x_r, y_t, y_r):\n",
        "  layer = []\n",
        "  rate = []\n",
        "  epoch = []\n",
        "  rmse = []\n",
        "\n",
        "  for l in layers:\n",
        "    for r in rates:\n",
        "      model = create_model(l, r)\n",
        "      for e in epochs:\n",
        "        history = model.fit(x_t,\n",
        "                    y_t,\n",
        "                    epochs=e,\n",
        "                    batch_size=50,\n",
        "                    validation_split=0.2,\n",
        "                    shuffle=True,\n",
        "                    verbose=1)\n",
        "        y_pred = model.predict(x_r)\n",
        "        error = mean_squared_error(y_r, y_pred)\n",
        "\n",
        "        layer.append(l)\n",
        "        rate.append(r)\n",
        "        epoch.append(e)\n",
        "        rmse.append(error)\n",
        "        print(l,r,e,error)\n",
        "  return pd.DataFrame(list(zip(layer,rate,epoch,rmse)))\n"
      ]
    },
    {
      "cell_type": "code",
      "execution_count": null,
      "metadata": {
        "id": "CwLUN2CQ-YWs"
      },
      "outputs": [],
      "source": [
        "cases_result = test_model(x_train, x_test, y_case_train, y_case_test)"
      ]
    },
    {
      "cell_type": "code",
      "execution_count": null,
      "metadata": {
        "id": "RqWJTifd-YNU"
      },
      "outputs": [],
      "source": [
        "deaths_result = test_model(x_train, x_test, y_death_train, y_death_test)"
      ]
    },
    {
      "cell_type": "code",
      "execution_count": null,
      "metadata": {
        "id": "VfvBl7PM-X_y"
      },
      "outputs": [],
      "source": [
        "x_ratio_train = x_train.drop(index = y_ratio_train[y_ratio_train.isna()].index)\n",
        "y_ratio_train = y_ratio_train.dropna()\n",
        "\n",
        "x_ratio_test = x_test.drop(index = y_ratio_test[y_ratio_test.isna()].index)\n",
        "y_ratio_test = y_ratio_test.dropna()\n",
        "\n",
        "ratio_result = test_model(x_ratio_train, x_ratio_test, y_ratio_train, y_ratio_test)"
      ]
    },
    {
      "cell_type": "markdown",
      "metadata": {
        "id": "FCNqw34Dz7rf"
      },
      "source": [
        "# Challenges & Next Steps"
      ]
    },
    {
      "cell_type": "markdown",
      "metadata": {
        "id": "7LJuL4J8qLbs"
      },
      "source": [
        "##Challenges:"
      ]
    },
    {
      "cell_type": "markdown",
      "metadata": {
        "id": "ihCG5ilUz_S-"
      },
      "source": [
        "*   *Data Aquisition and Wrangling:* In cleaning and wrangling the data we felt categorizing by month-year instead of day-month-year would give us more insights into the data that may have not been as apparent viewing it day by day. Additionally, when initially sourcing the data, we put in a nontrivial amount of time into making sure we were using ethically obtained data sources. In particular, we had to make sure the traveling data came from a source that anonymized and deidentified the data of the individuals it was collected from. (See Trips by Distance dataset from U.S. Department of Transportation)\n",
        "\n",
        "*   *Explorartory Data Analysis:* In creating the geographical map plots there were a number of counties for which the cases and death data was not complete over the entire time span. Due to these discontinuities, these counties were not considered. Given that they totaled to around twelve counties throughtout the entire U.S., we felt that removing these would not have advese effects on visualizing our dataset. See **FIPS_with_incomplete_data** for the complete list.\n",
        "*   *Hyperparameter Tuning:* Notably for the random forest regression Models, we found that we had to limit the set of hyperparemeters we could use to train our models to prevent forests becoming to large and affecting our runtime.\n",
        "*   *Neural Network Model:* We were unable to successfully implement a neural net model for our dataset. We repeatedly ran into issues where our models would take much longer than expected to complete and as a result caused timeout issues with our runtime.\n"
      ]
    },
    {
      "cell_type": "markdown",
      "metadata": {
        "id": "N6TG9s-NqNwp"
      },
      "source": [
        "##Next Steps"
      ]
    },
    {
      "cell_type": "markdown",
      "source": [
        "*   Add other factors, such as weather data, demographic data, business openings, etc. that may have an influence on covid rates\n",
        "*   Experiment with a greater range of target variables (i.e. total cases or deaths rather than population adjusted)\n",
        "*   Segment data into rural and urban cities to control for other extraneous factors\n",
        "*   Train smaller models on a single county to identify the important factors (the variability for a single county over time should be lower than in the total data set)"
      ],
      "metadata": {
        "id": "HaeueQ7MiT1n"
      }
    }
  ],
  "metadata": {
    "colab": {
      "provenance": [],
      "include_colab_link": true
    },
    "kernelspec": {
      "display_name": "Python 3",
      "name": "python3"
    },
    "language_info": {
      "name": "python"
    }
  },
  "nbformat": 4,
  "nbformat_minor": 0
}